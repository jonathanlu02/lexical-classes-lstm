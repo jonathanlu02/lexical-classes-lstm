{
 "cells": [
  {
   "cell_type": "code",
   "execution_count": 1,
   "metadata": {},
   "outputs": [],
   "source": [
    "import re\n",
    "import nltk\n",
    "from nltk.corpus import stopwords\n",
    "from nltk.stem.porter import *\n",
    "from nltk.stem import WordNetLemmatizer\n",
    "from nltk.tokenize import word_tokenize"
   ]
  },
  {
   "cell_type": "code",
   "execution_count": 2,
   "metadata": {},
   "outputs": [
    {
     "name": "stderr",
     "output_type": "stream",
     "text": [
      "[nltk_data] Downloading package stopwords to\n",
      "[nltk_data]     C:\\Users\\Jonathan\\AppData\\Roaming\\nltk_data...\n",
      "[nltk_data]   Package stopwords is already up-to-date!\n",
      "[nltk_data] Downloading package punkt to\n",
      "[nltk_data]     C:\\Users\\Jonathan\\AppData\\Roaming\\nltk_data...\n",
      "[nltk_data]   Package punkt is already up-to-date!\n",
      "[nltk_data] Downloading package wordnet to\n",
      "[nltk_data]     C:\\Users\\Jonathan\\AppData\\Roaming\\nltk_data...\n",
      "[nltk_data]   Package wordnet is already up-to-date!\n"
     ]
    },
    {
     "data": {
      "text/plain": [
       "True"
      ]
     },
     "execution_count": 2,
     "metadata": {},
     "output_type": "execute_result"
    }
   ],
   "source": [
    "# run once\n",
    "nltk.download('stopwords')\n",
    "nltk.download('punkt')\n",
    "nltk.download('wordnet')"
   ]
  },
  {
   "cell_type": "markdown",
   "metadata": {},
   "source": [
    "# 1. Reading in the Data"
   ]
  },
  {
   "cell_type": "code",
   "execution_count": 3,
   "metadata": {},
   "outputs": [],
   "source": [
    "f = open(\"data\\Alice in Wonderland.txt\", \"r\", encoding=\"utf8\")\n",
    "data = f.read()\n",
    "f.close()\n",
    "#print(data)"
   ]
  },
  {
   "cell_type": "markdown",
   "metadata": {},
   "source": [
    "# 2. Text Preprocessing"
   ]
  },
  {
   "cell_type": "markdown",
   "metadata": {},
   "source": [
    "### a. Expand Contractions\n",
    "example: I'm -> I am"
   ]
  },
  {
   "cell_type": "code",
   "execution_count": 4,
   "metadata": {},
   "outputs": [],
   "source": [
    "CONTRACTION_MAP = { \n",
    "\"ain't\": \"am not\",\n",
    "\"aren't\": \"am not\",\n",
    "\"can't\": \"cannot\",\n",
    "\"can't've\": \"cannot have\",\n",
    "\"'cause\": \"because\",\n",
    "\"could've\": \"could have\",\n",
    "\"couldn't\": \"could not\",\n",
    "\"couldn't've\": \"could not have\",\n",
    "\"didn't\": \"did not\",\n",
    "\"doesn't\": \"does not\",\n",
    "\"don't\": \"do not\",\n",
    "\"hadn't\": \"had not\",\n",
    "\"hadn't've\": \"had not have\",\n",
    "\"hasn't\": \"has not\",\n",
    "\"haven't\": \"have not\",\n",
    "\"he'd\": \"he would\",\n",
    "\"he'd've\": \"he would have\",\n",
    "\"he'll\": \"he will\",\n",
    "\"he'll've\": \"he will have\",\n",
    "\"he's\": \"he is\",\n",
    "\"how'd\": \"how did\",\n",
    "\"how'd'y\": \"how do you\",\n",
    "\"how'll\": \"how will\",\n",
    "\"how's\": \"how does\",\n",
    "\"I'd\": \"I would\",\n",
    "\"I'd've\": \"I would have\",\n",
    "\"I'll\": \"I will\",\n",
    "\"I'll've\": \"I will have\",\n",
    "\"I'm\": \"I am\",\n",
    "\"I've\": \"I have\",\n",
    "\"isn't\": \"is not\",\n",
    "\"it'd\": \"it would\",\n",
    "\"it'd've\": \"it would have\",\n",
    "\"it'll\": \"it will\",\n",
    "\"it'll've\": \"it will have\",\n",
    "\"it's\": \"it is\",\n",
    "\"let's\": \"let us\",\n",
    "\"ma'am\": \"madam\",\n",
    "\"mayn't\": \"may not\",\n",
    "\"might've\": \"might have\",\n",
    "\"mightn't\": \"might not\",\n",
    "\"mightn't've\": \"might not have\",\n",
    "\"must've\": \"must have\",\n",
    "\"mustn't\": \"must not\",\n",
    "\"mustn't've\": \"must not have\",\n",
    "\"needn't\": \"need not\",\n",
    "\"needn't've\": \"need not have\",\n",
    "\"o'clock\": \"of the clock\",\n",
    "\"oughtn't\": \"ought not\",\n",
    "\"oughtn't've\": \"ought not have\",\n",
    "\"shan't\": \"shall not\",\n",
    "\"sha'n't\": \"shall not\",\n",
    "\"shan't've\": \"shall not have\",\n",
    "\"she'd\": \"she would\",\n",
    "\"she'd've\": \"she would have\",\n",
    "\"she'll\": \"she will\",\n",
    "\"she'll've\": \"she will have\",\n",
    "\"she's\": \"she is\",\n",
    "\"should've\": \"should have\",\n",
    "\"shouldn't\": \"should not\",\n",
    "\"shouldn't've\": \"should not have\",\n",
    "\"so've\": \"so have\",\n",
    "\"so's\": \"so is\",\n",
    "\"that'd\": \"that had\",\n",
    "\"that'd've\": \"that would have\",\n",
    "\"that's\": \"that is\",\n",
    "\"there'd\": \"there would\",\n",
    "\"there'd've\": \"there would have\",\n",
    "\"there's\": \"there is\",\n",
    "\"they'd\": \"they would\",\n",
    "\"they'd've\": \"they would have\",\n",
    "\"they'll\": \"they will\",\n",
    "\"they'll've\": \"they will have\",\n",
    "\"they're\": \"they are\",\n",
    "\"they've\": \"they have\",\n",
    "\"to've\": \"to have\",\n",
    "\"wasn't\": \"was not\",\n",
    "\"we'd\": \"we would\",\n",
    "\"we'd've\": \"we would have\",\n",
    "\"we'll\": \"we will\",\n",
    "\"we'll've\": \"we will have\",\n",
    "\"we're\": \"we are\",\n",
    "\"we've\": \"we have\",\n",
    "\"weren't\": \"were not\",\n",
    "\"what'll\": \"what will\",\n",
    "\"what'll've\": \"what will have\",\n",
    "\"what're\": \"what are\",\n",
    "\"what's\": \"what is\",\n",
    "\"what've\": \"what have\",\n",
    "\"when's\": \"when is\",\n",
    "\"when've\": \"when have\",\n",
    "\"where'd\": \"where did\",\n",
    "\"where's\": \"where is\",\n",
    "\"where've\": \"where have\",\n",
    "\"who'll\": \"who will\",\n",
    "\"who'll've\": \"who will have\",\n",
    "\"who's\": \"who is\",\n",
    "\"who've\": \"who have\",\n",
    "\"why's\": \"why is\",\n",
    "\"why've\": \"why have\",\n",
    "\"will've\": \"will have\",\n",
    "\"won't\": \"will not\",\n",
    "\"won't've\": \"will not have\",\n",
    "\"would've\": \"would have\",\n",
    "\"wouldn't\": \"would not\",\n",
    "\"wouldn't've\": \"would not have\",\n",
    "\"y'all\": \"you all\",\n",
    "\"y'all'd\": \"you all would\",\n",
    "\"y'all'd've\": \"you all would have\",\n",
    "\"y'all're\": \"you all are\",\n",
    "\"y'all've\": \"you all have\",\n",
    "\"you'd\": \"you would\",\n",
    "\"you'd've\": \"you would have\",\n",
    "\"you'll\": \"you will\",\n",
    "\"you'll've\": \"you will have\",\n",
    "\"you're\": \"you are\",\n",
    "\"you've\": \"you have\"\n",
    "}\n",
    "\n",
    "def expand_contractions(text, contraction_mapping=CONTRACTION_MAP):\n",
    "    \n",
    "    contractions_pattern = re.compile('({})'.format('|'.join(contraction_mapping.keys())), \n",
    "                                      flags=re.IGNORECASE|re.DOTALL)\n",
    "    def expand_match(contraction):\n",
    "        match = contraction.group(0)\n",
    "        first_char = match[0]\n",
    "        expanded_contraction = contraction_mapping.get(match)\\\n",
    "                                if contraction_mapping.get(match)\\\n",
    "                                else contraction_mapping.get(match.lower())                       \n",
    "        expanded_contraction = first_char+expanded_contraction[1:]\n",
    "        return expanded_contraction\n",
    "        \n",
    "    expanded_text = contractions_pattern.sub(expand_match, text)\n",
    "    expanded_text = re.sub(\"'\", \"\", expanded_text)\n",
    "    return expanded_text"
   ]
  },
  {
   "cell_type": "code",
   "execution_count": 5,
   "metadata": {},
   "outputs": [
    {
     "name": "stdout",
     "output_type": "stream",
     "text": [
      "test: it is I will I am have not\n"
     ]
    }
   ],
   "source": [
    "#test\n",
    "print(expand_contractions('''test: it's I'll I'm haven't''',CONTRACTION_MAP))"
   ]
  },
  {
   "cell_type": "markdown",
   "metadata": {},
   "source": [
    "### b. Remove non-alphabetical characters\n",
    "Remove special characters like periods, commas, as well as digits. Only keeping alphabet characters and spaces"
   ]
  },
  {
   "cell_type": "code",
   "execution_count": 6,
   "metadata": {},
   "outputs": [],
   "source": [
    "def remove_non_alphabetical_characters(text):\n",
    "    return re.sub(r'[^a-zA-Z\\s]', '', text)"
   ]
  },
  {
   "cell_type": "code",
   "execution_count": 7,
   "metadata": {},
   "outputs": [
    {
     "name": "stdout",
     "output_type": "stream",
     "text": [
      "t e s t\n"
     ]
    }
   ],
   "source": [
    "#test\n",
    "print(remove_non_alphabetical_characters('t !@#$%^&*()_+-={}[]:\"e;''\">? s ./\\|<>,t1234567890`'))"
   ]
  },
  {
   "cell_type": "markdown",
   "metadata": {},
   "source": [
    "### c. Removing stopwords\n",
    "example: remove 'a', 'the', 'and', etc."
   ]
  },
  {
   "cell_type": "code",
   "execution_count": 8,
   "metadata": {},
   "outputs": [],
   "source": [
    "def remove_stopwords(text):\n",
    "    stopword_list = set(stopwords.words('english')) \n",
    "    \n",
    "    tokens = word_tokenize(text)\n",
    "    tokens = [token.strip() for token in tokens]\n",
    "    \n",
    "    filtered_tokens = [token for token in tokens if token not in stopword_list]\n",
    "    \n",
    "    return ' '.join(filtered_tokens) "
   ]
  },
  {
   "cell_type": "code",
   "execution_count": 9,
   "metadata": {},
   "outputs": [
    {
     "name": "stdout",
     "output_type": "stream",
     "text": [
      "test test test test test\n"
     ]
    }
   ],
   "source": [
    "#test\n",
    "print(remove_stopwords('this test is a test to test the test from a test'))"
   ]
  },
  {
   "cell_type": "markdown",
   "metadata": {},
   "source": [
    "### d. Stemming \n",
    "#### (may remove due to aggressive pruning issue + lemmatization more effective)\n",
    "example: making -> make"
   ]
  },
  {
   "cell_type": "code",
   "execution_count": 10,
   "metadata": {},
   "outputs": [],
   "source": [
    "def stemmer_text(text):\n",
    "    ps = nltk.porter.PorterStemmer()\n",
    "    text = ' '.join([ps.stem(word) for word in text.split()])\n",
    "    return text"
   ]
  },
  {
   "cell_type": "code",
   "execution_count": 11,
   "metadata": {},
   "outputs": [
    {
     "name": "stdout",
     "output_type": "stream",
     "text": [
      "make make make\n",
      "tri tri poni\n"
     ]
    }
   ],
   "source": [
    "print(stemmer_text('making make makes'))\n",
    "print(stemmer_text('try tries ponies')) # issue with stemming - https://medium.com/@tusharsri/nlp-a-quick-guide-to-stemming-60f1ca5db49e"
   ]
  },
  {
   "cell_type": "markdown",
   "metadata": {},
   "source": [
    "### e. Lemmatization\n",
    "example: tries -> try"
   ]
  },
  {
   "cell_type": "code",
   "execution_count": 12,
   "metadata": {},
   "outputs": [],
   "source": [
    "def lemmatize_text(text):\n",
    "    wn_lemmatizer = WordNetLemmatizer()\n",
    "    text = ' '.join([wn_lemmatizer.lemmatize(word) for word in text.split()])\n",
    "    return text"
   ]
  },
  {
   "cell_type": "code",
   "execution_count": 13,
   "metadata": {},
   "outputs": [
    {
     "name": "stdout",
     "output_type": "stream",
     "text": [
      "making make make\n",
      "try try pony\n"
     ]
    }
   ],
   "source": [
    "#test\n",
    "print(lemmatize_text('making make makes'))\n",
    "print(lemmatize_text('try tries ponies'))"
   ]
  },
  {
   "cell_type": "code",
   "execution_count": null,
   "metadata": {},
   "outputs": [],
   "source": []
  },
  {
   "cell_type": "code",
   "execution_count": 14,
   "metadata": {},
   "outputs": [],
   "source": [
    "def preprocess(text):\n",
    "    text = text.lower()\n",
    "    text = expand_contractions(text)\n",
    "    text = remove_non_alphabetical_characters(text)\n",
    "    text = remove_stopwords(text)\n",
    "    #text = stemmer_text(text)\n",
    "    text = lemmatize_text(text)\n",
    "    return text"
   ]
  },
  {
   "cell_type": "code",
   "execution_count": 15,
   "metadata": {},
   "outputs": [],
   "source": [
    "preprocessed_text = preprocess(data)\n",
    "#print(preprocessed_text)"
   ]
  },
  {
   "cell_type": "markdown",
   "metadata": {},
   "source": [
    "# 3. Representation of words (bag of words for single document)\n",
    "(If we have more documents, we can create sparse bag of words. Alice in Wonderland might not be enough data)"
   ]
  },
  {
   "cell_type": "code",
   "execution_count": 16,
   "metadata": {},
   "outputs": [],
   "source": [
    "def bag_of_words(text):\n",
    "    word_dict = {}\n",
    "    for word in text:\n",
    "        if word in word_dict.keys():\n",
    "            word_dict[word] += 1\n",
    "        else:\n",
    "            word_dict[word] = 1\n",
    "    return word_dict"
   ]
  },
  {
   "cell_type": "code",
   "execution_count": 17,
   "metadata": {},
   "outputs": [
    {
     "name": "stdout",
     "output_type": "stream",
     "text": [
      "{'alices': 13, 'adventure': 6, 'wonderland': 3, 'lewis': 1, 'carroll': 1, 'millennium': 1, 'fulcrum': 1, 'edition': 3, 'content': 2, 'chapter': 24, 'rabbithole': 4, 'ii': 3, 'pool': 11, 'tear': 12, 'iii': 2, 'caucusrace': 4, 'long': 33, 'tale': 5, 'iv': 2, 'rabbit': 48, 'sends': 2, 'little': 129, 'bill': 16, 'v': 2, 'advice': 3, 'caterpillar': 29, 'vi': 2, 'pig': 11, 'pepper': 8, 'vii': 2, 'mad': 15, 'teaparty': 3, 'viii': 2, 'queen': 77, 'croquetground': 4, 'ix': 2, 'mock': 57, 'turtle': 61, 'story': 9, 'x': 2, 'lobster': 15, 'quadrille': 5, 'xi': 2, 'stole': 3, 'tart': 8, 'xii': 2, 'evidence': 8, 'alice': 385, 'beginning': 13, 'get': 46, 'tired': 7, 'sitting': 10, 'sister': 10, 'bank': 3, 'nothing': 34, 'twice': 5, 'peeped': 3, 'book': 8, 'reading': 3, 'picture': 5, 'conversation': 11, 'use': 18, 'thought': 76, 'without': 25, 'considering': 3, 'mind': 10, 'well': 60, 'could': 77, 'hot': 5, 'day': 29, 'made': 30, 'feel': 8, 'sleepy': 5, 'stupid': 6, 'whether': 11, 'pleasure': 2, 'making': 8, 'daisychain': 1, 'would': 83, 'worth': 4, 'trouble': 6, 'getting': 22, 'picking': 2, 'daisy': 1, 'suddenly': 13, 'white': 30, 'pink': 1, 'eye': 34, 'ran': 16, 'close': 13, 'remarkable': 2, 'think': 53, 'much': 51, 'way': 53, 'hear': 14, 'say': 54, 'oh': 38, 'dear': 32, 'shall': 25, 'late': 6, 'afterwards': 2, 'occurred': 2, 'ought': 14, 'wondered': 1, 'time': 74, 'seemed': 27, 'quite': 55, 'natural': 4, 'actually': 1, 'took': 24, 'watch': 8, 'waistcoatpocket': 2, 'looked': 45, 'hurried': 11, 'started': 2, 'foot': 29, 'flashed': 1, 'across': 5, 'never': 45, 'seen': 14, 'either': 10, 'take': 23, 'burning': 1, 'curiosity': 5, 'field': 1, 'fortunately': 1, 'see': 66, 'pop': 1, 'large': 33, 'hedge': 3, 'another': 22, 'moment': 31, 'went': 83, 'world': 7, 'straight': 2, 'like': 86, 'tunnel': 1, 'dipped': 2, 'stopping': 1, 'found': 32, 'falling': 2, 'deep': 7, 'fell': 6, 'slowly': 8, 'plenty': 2, 'look': 28, 'wonder': 18, 'going': 27, 'happen': 8, 'next': 30, 'first': 49, 'tried': 19, 'make': 37, 'coming': 9, 'dark': 3, 'anything': 19, 'side': 21, 'noticed': 8, 'filled': 3, 'cupboard': 2, 'bookshelf': 1, 'saw': 14, 'map': 1, 'hung': 1, 'upon': 26, 'peg': 1, 'jar': 2, 'one': 103, 'shelf': 1, 'passed': 5, 'labelled': 1, 'orange': 1, 'marmalade': 1, 'great': 39, 'disappointment': 1, 'empty': 1, 'drop': 1, 'fear': 4, 'killing': 1, 'somebody': 7, 'underneath': 2, 'managed': 4, 'put': 31, 'past': 1, 'fall': 7, 'tumbling': 2, 'stair': 3, 'brave': 1, 'theyll': 4, 'home': 5, 'wouldnt': 13, 'even': 18, 'top': 9, 'house': 19, 'likely': 5, 'true': 4, 'come': 47, 'end': 18, 'many': 12, 'mile': 5, 'ive': 34, 'fallen': 4, 'said': 462, 'aloud': 5, 'must': 44, 'somewhere': 3, 'near': 15, 'centre': 1, 'earth': 4, 'let': 22, 'four': 6, 'thousand': 2, 'learnt': 2, 'several': 4, 'thing': 77, 'sort': 23, 'lesson': 11, 'schoolroom': 1, 'though': 11, 'good': 24, 'opportunity': 8, 'showing': 2, 'knowledge': 3, 'listen': 7, 'still': 13, 'practice': 1, 'yes': 13, 'thats': 33, 'right': 31, 'distancebut': 1, 'latitude': 2, 'longitude': 2, 'got': 45, 'idea': 15, 'nice': 6, 'grand': 3, 'word': 31, 'presently': 2, 'began': 58, 'funny': 3, 'itll': 8, 'seem': 8, 'among': 12, 'people': 13, 'walk': 5, 'head': 59, 'downward': 1, 'antipathy': 1, 'rather': 25, 'glad': 11, 'listening': 3, 'didnt': 14, 'sound': 8, 'ask': 11, 'name': 12, 'country': 1, 'know': 87, 'please': 19, 'maam': 1, 'new': 5, 'zealand': 1, 'australia': 1, 'curtsey': 1, 'spokefancy': 1, 'curtseying': 1, 'youre': 23, 'air': 15, 'manage': 7, 'ignorant': 1, 'girl': 7, 'shell': 3, 'asking': 5, 'perhaps': 17, 'written': 6, 'else': 10, 'soon': 25, 'talking': 17, 'dinahll': 2, 'miss': 4, 'tonight': 1, 'dinah': 11, 'cat': 50, 'hope': 3, 'remember': 14, 'saucer': 1, 'milk': 1, 'teatime': 2, 'wish': 21, 'mouse': 42, 'im': 57, 'afraid': 12, 'might': 28, 'catch': 3, 'bat': 7, 'eat': 18, 'saying': 15, 'dreamy': 1, 'sometimes': 5, 'couldnt': 9, 'answer': 10, 'question': 20, 'matter': 11, 'felt': 23, 'dozing': 1, 'begun': 7, 'dream': 7, 'walking': 5, 'hand': 32, 'earnestly': 2, 'tell': 33, 'truth': 1, 'ever': 22, 'thump': 2, 'came': 40, 'heap': 1, 'stick': 5, 'dry': 8, 'leaf': 6, 'bit': 16, 'hurt': 3, 'jumped': 6, 'overhead': 1, 'passage': 4, 'sight': 10, 'hurrying': 1, 'lost': 3, 'away': 25, 'wind': 2, 'turned': 16, 'corner': 4, 'ear': 11, 'whisker': 3, 'behind': 13, 'longer': 3, 'low': 14, 'hall': 9, 'lit': 1, 'row': 2, 'lamp': 1, 'hanging': 3, 'roof': 6, 'door': 31, 'round': 41, 'locked': 1, 'trying': 14, 'every': 12, 'walked': 10, 'sadly': 5, 'middle': 7, 'wondering': 7, 'threelegged': 2, 'table': 18, 'solid': 1, 'glass': 9, 'except': 4, 'tiny': 4, 'golden': 7, 'key': 9, 'belong': 1, 'ala': 4, 'lock': 3, 'small': 10, 'rate': 9, 'open': 7, 'however': 20, 'second': 4, 'curtain': 1, 'fifteen': 1, 'inch': 6, 'high': 16, 'delight': 3, 'fitted': 1, 'opened': 10, 'led': 4, 'larger': 7, 'rathole': 1, 'knelt': 1, 'along': 5, 'loveliest': 1, 'garden': 15, 'longed': 2, 'wander': 1, 'bed': 2, 'bright': 7, 'flower': 2, 'cool': 2, 'fountain': 2, 'doorway': 1, 'go': 57, 'poor': 27, 'shoulder': 8, 'shut': 5, 'telescope': 4, 'knew': 15, 'begin': 17, 'outoftheway': 3, 'happened': 7, 'lately': 1, 'indeed': 16, 'really': 13, 'impossible': 3, 'waiting': 9, 'back': 39, 'half': 21, 'hoping': 3, 'find': 22, 'rule': 8, 'shutting': 2, 'bottle': 10, 'certainly': 14, 'neck': 7, 'paper': 4, 'label': 2, 'drink': 7, 'beautifully': 2, 'printed': 1, 'letter': 4, 'wise': 2, 'hurry': 11, 'ill': 33, 'marked': 6, 'poison': 3, 'read': 11, 'history': 8, 'child': 20, 'burnt': 1, 'eaten': 1, 'wild': 2, 'beast': 3, 'unpleasant': 2, 'simple': 5, 'friend': 5, 'taught': 4, 'redhot': 1, 'poker': 1, 'burn': 2, 'hold': 9, 'cut': 5, 'finger': 5, 'deeply': 4, 'knife': 2, 'usually': 2, 'bleeds': 1, 'forgotten': 6, 'almost': 6, 'certain': 3, 'disagree': 1, 'sooner': 2, 'later': 3, 'ventured': 4, 'taste': 3, 'finding': 3, 'fact': 8, 'mixed': 2, 'flavour': 1, 'cherrytart': 1, 'custard': 1, 'pineapple': 1, 'roast': 1, 'turkey': 1, 'toffee': 1, 'buttered': 1, 'toast': 1, 'finished': 12, 'curious': 19, 'feeling': 9, 'ten': 6, 'face': 19, 'brightened': 2, 'size': 14, 'lovely': 2, 'waited': 11, 'minute': 32, 'shrink': 1, 'nervous': 5, 'altogether': 5, 'candle': 3, 'fancy': 5, 'flame': 1, 'blown': 1, 'decided': 3, 'possibly': 3, 'reach': 4, 'plainly': 1, 'best': 12, 'climb': 1, 'leg': 3, 'slippery': 1, 'sat': 17, 'cried': 20, 'there': 24, 'cry': 6, 'sharply': 4, 'advise': 1, 'leave': 9, 'generally': 7, 'gave': 15, 'seldom': 1, 'followed': 8, 'scolded': 1, 'severely': 4, 'bring': 3, 'remembered': 5, 'box': 4, 'cheated': 1, 'game': 14, 'croquet': 6, 'playing': 2, 'fond': 3, 'pretending': 1, 'two': 39, 'pretend': 1, 'hardly': 12, 'enough': 17, 'left': 14, 'respectable': 1, 'person': 5, 'lying': 8, 'cake': 6, 'currant': 1, 'grow': 13, 'smaller': 3, 'creep': 1, 'dont': 60, 'care': 6, 'happens': 5, 'ate': 1, 'anxiously': 14, 'holding': 3, 'growing': 11, 'surprised': 7, 'remained': 3, 'sure': 24, 'eats': 1, 'expecting': 3, 'dull': 3, 'life': 15, 'common': 1, 'set': 14, 'work': 9, 'curiouser': 2, 'forgot': 2, 'speak': 14, 'english': 6, 'opening': 3, 'largest': 1, 'goodbye': 1, 'far': 13, 'shoe': 7, 'stocking': 1, 'shant': 6, 'able': 1, 'deal': 12, 'canbut': 1, 'kind': 7, 'wont': 24, 'want': 11, 'give': 12, 'pair': 6, 'boot': 4, 'christmas': 1, 'planning': 1, 'carrier': 1, 'sending': 2, 'present': 4, 'odd': 1, 'direction': 8, 'esq': 1, 'hearthrug': 1, 'fender': 1, 'love': 3, 'nonsense': 7, 'struck': 2, 'nine': 5, 'hopeless': 1, 'ashamed': 2, 'stop': 6, 'shedding': 1, 'gallon': 1, 'reaching': 1, 'heard': 30, 'pattering': 3, 'distance': 7, 'hastily': 16, 'dried': 1, 'returning': 1, 'splendidly': 1, 'dressed': 1, 'kid': 5, 'glove': 10, 'fan': 10, 'trotting': 2, 'muttering': 3, 'duchess': 42, 'savage': 4, 'kept': 13, 'desperate': 1, 'ready': 8, 'help': 9, 'timid': 3, 'voice': 49, 'sir': 7, 'violently': 4, 'dropped': 5, 'skurried': 1, 'darkness': 1, 'hard': 8, 'fanning': 1, 'queer': 10, 'everything': 10, 'today': 4, 'yesterday': 3, 'usual': 5, 'changed': 8, 'night': 3, 'morning': 5, 'different': 9, 'ah': 5, 'puzzle': 1, 'thinking': 11, 'age': 4, 'ada': 1, 'hair': 7, 'ringlet': 2, 'mine': 8, 'doesnt': 16, 'cant': 28, 'mabel': 4, 'besides': 4, 'shes': 7, 'andoh': 2, 'puzzling': 4, 'try': 12, 'used': 12, 'five': 8, 'twelve': 4, 'six': 2, 'thirteen': 1, 'seven': 6, 'isoh': 2, 'twenty': 1, 'multiplication': 1, 'signify': 1, 'geography': 1, 'london': 1, 'capital': 4, 'paris': 2, 'rome': 1, 'romeno': 1, 'wrong': 5, 'doth': 3, 'crossed': 3, 'lap': 2, 'repeat': 7, 'sounded': 5, 'hoarse': 3, 'strange': 5, 'crocodile': 1, 'improve': 1, 'shining': 1, 'tail': 12, 'pour': 1, 'water': 5, 'nile': 1, 'scale': 1, 'cheerfully': 1, 'seems': 5, 'grin': 7, 'neatly': 2, 'spread': 3, 'claw': 2, 'welcome': 1, 'fish': 4, 'gently': 3, 'smiling': 2, 'jaw': 3, 'live': 8, 'poky': 1, 'toy': 1, 'play': 8, 'learn': 7, 'stay': 6, 'putting': 3, 'till': 21, 'elsebut': 1, 'sudden': 5, 'burst': 1, 'alone': 4, 'done': 15, 'measure': 1, 'nearly': 11, 'guess': 3, 'shrinking': 4, 'rapidly': 2, 'cause': 3, 'avoid': 1, 'narrow': 2, 'escape': 4, 'frightened': 7, 'change': 16, 'existence': 1, 'speed': 1, 'worse': 3, 'declare': 2, 'bad': 2, 'slipped': 3, 'splash': 1, 'chin': 7, 'salt': 2, 'somehow': 1, 'sea': 13, 'case': 5, 'railway': 2, 'seaside': 1, 'general': 3, 'conclusion': 2, 'wherever': 2, 'coast': 1, 'number': 5, 'bathing': 1, 'machine': 1, 'digging': 4, 'sand': 2, 'wooden': 1, 'spade': 1, 'lodging': 1, 'station': 1, 'wept': 1, 'hadnt': 8, 'swam': 5, 'punished': 1, 'suppose': 14, 'drowned': 1, 'something': 18, 'splashing': 2, 'nearer': 5, 'walrus': 1, 'hippopotamus': 1, 'talk': 14, 'harm': 1, 'swimming': 2, 'speaking': 5, 'brother': 1, 'latin': 1, 'grammar': 1, 'mouseof': 1, 'mouseto': 1, 'mousea': 1, 'mouseo': 1, 'inquisitively': 1, 'wink': 2, 'understand': 6, 'daresay': 1, 'french': 4, 'william': 7, 'conqueror': 2, 'clear': 2, 'notion': 3, 'ago': 2, 'est': 1, 'chatte': 1, 'sentence': 6, 'lessonbook': 1, 'leap': 1, 'quiver': 1, 'fright': 2, 'beg': 8, 'pardon': 6, 'animal': 6, 'shrill': 5, 'passionate': 1, 'soothing': 1, 'tone': 42, 'angry': 5, 'yet': 22, 'show': 3, 'youd': 10, 'quiet': 2, 'lazily': 1, 'sits': 1, 'purring': 2, 'nicely': 2, 'fire': 3, 'licking': 1, 'paw': 7, 'washing': 2, 'faceand': 1, 'soft': 1, 'nurseand': 1, 'catching': 2, 'miceoh': 1, 'bristling': 1, 'offended': 10, 'trembling': 6, 'subject': 7, 'family': 1, 'always': 12, 'hated': 1, 'nasty': 1, 'vulgar': 1, 'youare': 1, 'fondofof': 1, 'dog': 6, 'eagerly': 8, 'brighteyed': 1, 'terrier': 1, 'curly': 1, 'brown': 2, 'fetch': 7, 'throw': 3, 'sit': 8, 'dinner': 2, 'thingsi': 1, 'themand': 2, 'belongs': 2, 'farmer': 1, 'useful': 2, 'hundred': 1, 'pound': 1, 'kill': 2, 'rat': 1, 'sorrowful': 2, 'commotion': 1, 'called': 15, 'softly': 1, 'pale': 4, 'passion': 3, 'u': 14, 'shore': 3, 'youll': 6, 'hate': 1, 'crowded': 5, 'bird': 11, 'duck': 4, 'dodo': 13, 'lory': 7, 'eaglet': 3, 'creature': 14, 'whole': 13, 'party': 8, 'queerlooking': 1, 'assembled': 2, 'bankthe': 1, 'draggled': 1, 'feather': 2, 'fur': 3, 'clinging': 1, 'dripping': 1, 'wet': 2, 'cross': 1, 'uncomfortable': 4, 'course': 24, 'consultation': 1, 'familiarly': 1, 'known': 1, 'argument': 5, 'last': 33, 'sulky': 3, 'older': 2, 'better': 14, 'allow': 3, 'knowing': 2, 'old': 19, 'positively': 1, 'refused': 1, 'authority': 2, 'ring': 2, 'fixed': 1, 'cold': 1, 'ahem': 1, 'important': 5, 'driest': 1, 'silence': 14, 'whose': 2, 'favoured': 1, 'pope': 1, 'submitted': 1, 'wanted': 4, 'leader': 1, 'accustomed': 1, 'usurpation': 1, 'conquest': 1, 'edwin': 2, 'morcar': 2, 'earl': 2, 'mercia': 2, 'northumbria': 2, 'ugh': 2, 'shiver': 1, 'frowning': 4, 'politely': 6, 'proceed': 2, 'declared': 1, 'stigand': 1, 'patriotic': 1, 'archbishop': 2, 'canterbury': 1, 'advisable': 2, 'replied': 29, 'crossly': 1, 'mean': 14, 'frog': 2, 'worm': 1, 'notice': 5, 'hurriedly': 2, 'edgar': 1, 'atheling': 1, 'meet': 2, 'offer': 2, 'crown': 3, 'williams': 1, 'conduct': 1, 'moderate': 1, 'insolence': 1, 'norman': 1, 'continued': 9, 'turning': 12, 'spoke': 16, 'melancholy': 6, 'solemnly': 4, 'rising': 1, 'move': 3, 'meeting': 1, 'adjourn': 1, 'immediate': 1, 'adoption': 1, 'energetic': 1, 'remedy': 1, 'meaning': 8, 'whats': 5, 'believe': 9, 'bent': 1, 'hide': 1, 'smile': 2, 'tittered': 1, 'audibly': 1, 'paused': 1, 'inclined': 1, 'explain': 10, 'winter': 1, 'racecourse': 1, 'circle': 1, 'exact': 1, 'shape': 1, 'placed': 1, 'three': 26, 'running': 8, 'liked': 6, 'easy': 2, 'race': 2, 'hour': 6, 'panting': 2, 'pressed': 3, 'forehead': 2, 'position': 2, 'shakespeare': 1, 'rest': 10, 'everybody': 8, 'prize': 6, 'chorus': 6, 'asked': 17, 'pointing': 4, 'calling': 1, 'confused': 4, 'despair': 1, 'pocket': 5, 'pulled': 1, 'comfit': 2, 'luckily': 2, 'handed': 3, 'exactly': 8, 'apiece': 1, 'gravely': 3, 'thimble': 4, 'presented': 1, 'acceptance': 1, 'elegant': 1, 'short': 4, 'speech': 3, 'cheered': 3, 'absurd': 2, 'grave': 3, 'dare': 5, 'laugh': 1, 'simply': 2, 'bowed': 4, 'looking': 30, 'solemn': 3, 'caused': 2, 'noise': 4, 'confusion': 5, 'complained': 1, 'choked': 3, 'patted': 1, 'begged': 1, 'promised': 1, 'hatec': 1, 'added': 23, 'whisper': 4, 'sad': 3, 'sighing': 3, 'call': 9, 'fury': 3, 'met': 3, 'law': 2, 'prosecute': 1, 'youcome': 1, 'denial': 1, 'trial': 11, 'cur': 1, 'jury': 17, 'judge': 4, 'wasting': 2, 'breath': 4, 'cunning': 1, 'condemn': 1, 'death': 1, 'attending': 3, 'humbly': 2, 'fifth': 1, 'bend': 2, 'angrily': 9, 'knot': 2, 'undo': 1, 'insult': 1, 'pleaded': 3, 'easily': 3, 'growled': 1, 'reply': 5, 'finish': 5, 'others': 7, 'joined': 3, 'shook': 9, 'impatiently': 5, 'quicker': 1, 'pity': 3, 'sighed': 5, 'crab': 3, 'daughter': 1, 'lose': 1, 'temper': 5, 'tongue': 4, 'young': 5, 'snappishly': 1, 'patience': 1, 'oyster': 1, 'addressing': 1, 'nobody': 8, 'particular': 3, 'shed': 2, 'venture': 3, 'pet': 1, 'dinahs': 1, 'sensation': 2, 'magpie': 1, 'wrapping': 1, 'carefully': 3, 'remarking': 3, 'nightair': 1, 'suit': 3, 'throat': 2, 'canary': 1, 'various': 1, 'pretext': 1, 'moved': 5, 'mentioned': 3, 'lonely': 2, 'lowspirited': 1, 'footstep': 2, 'executed': 6, 'ferret': 2, 'guessed': 3, 'goodnaturedly': 1, 'hunting': 3, 'nowhere': 2, 'seeneverything': 1, 'since': 4, 'swim': 5, 'vanished': 4, 'completely': 1, 'mary': 4, 'ann': 4, 'run': 4, 'quick': 2, 'pointed': 1, 'mistake': 3, 'housemaid': 1, 'hell': 1, 'id': 11, 'glovesthat': 1, 'neat': 1, 'brass': 1, 'plate': 5, 'w': 1, 'engraved': 1, 'knocking': 3, 'upstairs': 1, 'lest': 1, 'real': 3, 'message': 2, 'fancying': 1, 'directly': 2, 'nurse': 2, 'theyd': 4, 'ordering': 2, 'tidy': 1, 'room': 13, 'window': 8, 'hoped': 1, 'stood': 7, 'lookingglass': 1, 'nevertheless': 1, 'uncorked': 1, 'lip': 1, 'interesting': 5, 'whenever': 1, 'expected': 1, 'drunk': 2, 'pressing': 1, 'ceiling': 1, 'stoop': 2, 'save': 2, 'broken': 6, 'enoughi': 1, 'moreas': 1, 'doori': 1, 'kneel': 1, 'floor': 3, 'effect': 3, 'elbow': 4, 'arm': 18, 'curled': 2, 'resource': 1, 'chimney': 6, 'whatever': 3, 'become': 5, 'magic': 1, 'full': 6, 'grew': 1, 'chance': 4, 'unhappy': 2, 'pleasanter': 1, 'wasnt': 11, 'ordered': 4, 'gone': 13, 'rabbitholeand': 1, 'yetand': 1, 'yetits': 1, 'fairytale': 1, 'fancied': 2, 'write': 6, 'onebut': 1, 'grown': 7, 'least': 8, 'thatll': 1, 'comfort': 1, 'waynever': 1, 'womanbut': 1, 'thenalways': 1, 'shouldnt': 5, 'foolish': 1, 'answered': 4, 'lessonbooks': 1, 'taking': 5, 'outside': 4, 'stopped': 3, 'trembled': 2, 'forgetting': 3, 'reason': 10, 'inwards': 1, 'attempt': 2, 'proved': 2, 'failure': 1, 'snatch': 2, 'shriek': 6, 'crash': 2, 'concluded': 2, 'possible': 1, 'cucumberframe': 1, 'voicethe': 1, 'rabbitspat': 1, 'pat': 2, 'apple': 2, 'yer': 4, 'honour': 4, 'pronounced': 1, 'arrum': 1, 'goose': 2, 'fill': 1, 'business': 7, 'coward': 1, 'cucumberframes': 1, 'pulling': 1, 'hearing': 4, 'rumbling': 1, 'cartwheel': 1, 'together': 9, 'wheres': 2, 'ladderwhy': 1, 'otherbill': 1, 'ladhere': 1, 'em': 3, 'cornerno': 1, 'tie': 1, 'firstthey': 1, 'yetoh': 1, 'particularhere': 1, 'ropewill': 1, 'bearmind': 1, 'loose': 1, 'slateoh': 1, 'loud': 6, 'crashnow': 1, 'thatit': 1, 'fancywhos': 1, 'chimneynay': 1, 'itthat': 1, 'thenbills': 1, 'downhere': 1, 'master': 3, 'shy': 1, 'place': 9, 'fireplace': 1, 'kick': 3, 'drew': 5, 'scratching': 1, 'scrambling': 1, 'sharp': 6, 'alongcatch': 1, 'voiceshold': 1, 'headbrandy': 1, 'nowdont': 1, 'choke': 1, 'himhow': 1, 'fellow': 5, 'feeble': 2, 'squeaking': 2, 'knowno': 1, 'thank': 4, 'ye': 1, 'nowbut': 1, 'flustered': 1, 'youall': 1, 'jackinthebox': 1, 'skyrocket': 1, 'dead': 4, 'instantly': 5, 'sense': 3, 'moving': 3, 'barrowful': 2, 'doubt': 4, 'shower': 2, 'pebble': 2, 'rattling': 2, 'hit': 2, 'shouted': 9, 'produced': 1, 'surprise': 5, 'lay': 4, 'swallowed': 1, 'delighted': 2, 'crowd': 4, 'lizard': 6, 'held': 4, 'guineapigs': 4, 'giving': 2, 'rush': 2, 'appeared': 8, 'safe': 2, 'thick': 1, 'wood': 7, 'wandered': 2, 'plan': 4, 'excellent': 2, 'arranged': 1, 'difficulty': 5, 'smallest': 2, 'peering': 1, 'tree': 12, 'bark': 2, 'enormous': 1, 'puppy': 7, 'feebly': 1, 'stretching': 2, 'touch': 1, 'coaxing': 2, 'whistle': 1, 'terribly': 1, 'hungry': 3, 'spite': 1, 'picked': 3, 'whereupon': 1, 'yelp': 1, 'rushed': 1, 'worry': 1, 'dodged': 1, 'thistle': 2, 'keep': 11, 'tumbled': 1, 'heel': 1, 'carthorse': 1, 'trampled': 1, 'series': 1, 'charge': 1, 'forward': 1, 'barking': 1, 'hoarsely': 1, 'mouth': 13, 'faint': 1, 'leant': 1, 'buttercup': 1, 'fanned': 1, 'teaching': 1, 'trick': 1, 'ifif': 1, 'seehow': 1, 'blade': 1, 'grass': 4, 'circumstance': 1, 'mushroom': 8, 'height': 5, 'stretched': 2, 'tiptoe': 2, 'edge': 3, 'immediately': 3, 'blue': 1, 'folded': 3, 'quietly': 5, 'smoking': 2, 'hookah': 5, 'addressed': 2, 'languid': 1, 'encouraging': 2, 'shyly': 1, 'presentat': 1, 'sternly': 1, 'clearly': 1, 'confusing': 3, 'isnt': 7, 'havent': 8, 'turn': 13, 'chrysalisyou': 1, 'knowand': 1, 'butterfly': 1, 'may': 13, 'contemptuously': 2, 'brought': 3, 'irritated': 1, 'remark': 13, 'state': 1, 'promising': 1, 'swallowing': 1, 'anger': 2, 'wait': 1, 'puffed': 1, 'unfolded': 2, 'usedand': 1, 'busy': 2, 'bee': 1, 'father': 6, 'man': 5, 'incessantly': 1, 'stand': 6, 'youth': 6, 'son': 1, 'feared': 1, 'injure': 1, 'brain': 1, 'perfectly': 4, 'none': 4, 'uncommonly': 1, 'fat': 1, 'backsomersault': 1, 'pray': 3, 'sage': 1, 'grey': 1, 'limb': 1, 'supple': 1, 'ointmentone': 1, 'shilling': 2, 'sell': 2, 'couple': 2, 'weak': 2, 'tougher': 1, 'suet': 1, 'bone': 2, 'beak': 1, 'argued': 1, 'wife': 1, 'muscular': 1, 'strength': 1, 'lasted': 2, 'steady': 1, 'balanced': 1, 'eel': 2, 'nose': 8, 'awfully': 1, 'clever': 2, 'stuff': 4, 'timidly': 9, 'altered': 1, 'decidedly': 4, 'changing': 2, 'often': 5, 'contradicted': 1, 'losing': 1, 'wretched': 2, 'rearing': 1, 'upright': 1, 'piteous': 1, 'patiently': 2, 'chose': 2, 'yawned': 2, 'crawled': 1, 'merely': 2, 'taller': 2, 'shorter': 2, 'thoughtfully': 4, 'difficult': 2, 'broke': 2, 'nibbled': 2, 'righthand': 2, 'violent': 2, 'blow': 3, 'closely': 1, 'swallow': 1, 'morsel': 1, 'lefthand': 2, 'free': 3, 'alarm': 2, 'immense': 1, 'length': 1, 'rise': 2, 'stalk': 1, 'green': 4, 'result': 1, 'follow': 2, 'shaking': 3, 'distant': 2, 'serpent': 12, 'succeeded': 3, 'curving': 1, 'graceful': 1, 'zigzag': 1, 'dive': 1, 'wandering': 2, 'hiss': 1, 'draw': 7, 'pigeon': 12, 'flown': 1, 'beating': 2, 'wing': 1, 'screamed': 4, 'indignantly': 4, 'repeated': 10, 'subdued': 1, 'sob': 5, 'root': 1, 'pleasing': 1, 'puzzled': 9, 'hatching': 1, 'egg': 6, 'lookout': 1, 'sleep': 6, 'week': 4, 'sorry': 1, 'youve': 6, 'annoyed': 1, 'taken': 4, 'highest': 1, 'raising': 1, 'need': 1, 'wriggling': 1, 'sky': 4, 'aim': 1, 'invent': 1, 'iim': 1, 'doubtfully': 2, 'deepest': 1, 'contempt': 1, 'denying': 1, 'telling': 2, 'tasted': 3, 'truthful': 1, 'theyre': 13, 'silent': 7, 'adding': 1, 'raw': 1, 'settled': 3, 'nest': 1, 'crouched': 1, 'entangled': 2, 'branch': 3, 'untwist': 1, 'piece': 8, 'nibbling': 3, 'bringing': 3, 'beautiful': 14, 'gardenhow': 1, 'whoever': 1, 'frighten': 1, 'wit': 1, 'footman': 12, 'livery': 3, 'woodshe': 1, 'considered': 3, 'otherwise': 4, 'judging': 1, 'fishand': 1, 'rapped': 1, 'loudly': 3, 'knuckle': 1, 'powdered': 1, 'crept': 1, 'fishfootman': 2, 'producing': 1, 'invitation': 2, 'frogfootman': 1, 'order': 3, 'curl': 1, 'laughed': 2, 'ground': 4, 'staring': 3, 'stupidly': 1, 'knocked': 1, 'secondly': 2, 'inside': 2, 'extraordinary': 2, 'withina': 1, 'constant': 2, 'howling': 3, 'sneezing': 6, 'dish': 6, 'kettle': 1, 'instance': 3, 'knock': 1, 'uncivil': 1, 'questionshow': 1, 'remarked': 10, 'tomorrow': 1, 'skimming': 1, 'grazed': 1, 'maybe': 1, 'louder': 1, 'told': 6, 'dreadful': 2, 'muttered': 2, 'argue': 1, 'drive': 2, 'crazy': 1, 'repeating': 3, 'variation': 1, 'whistling': 1, 'desperately': 1, 'he': 3, 'idiotic': 1, 'kitchen': 4, 'smoke': 1, 'stool': 1, 'nursing': 3, 'baby': 12, 'cook': 13, 'leaning': 2, 'stirring': 2, 'cauldron': 2, 'soup': 18, 'sneezed': 1, 'occasionally': 1, 'alternately': 1, 'pause': 2, 'sneeze': 4, 'hearth': 1, 'grinning': 1, 'manner': 3, 'cheshire': 7, 'violence': 1, 'courage': 3, 'grinned': 3, 'pleased': 7, 'introduce': 2, 'fix': 1, 'throwing': 2, 'within': 1, 'babythe': 1, 'fireirons': 1, 'saucepan': 2, 'already': 2, 'jumping': 4, 'agony': 1, 'terror': 1, 'precious': 1, 'unusually': 1, 'flew': 1, 'carried': 4, 'minded': 1, 'growl': 4, 'faster': 3, 'advantage': 3, 'twentyfour': 2, 'axis': 1, 'ax': 1, 'chop': 1, 'glanced': 1, 'meant': 5, 'hint': 2, 'busily': 4, 'bother': 1, 'abide': 1, 'figure': 4, 'singing': 2, 'lullaby': 1, 'shake': 1, 'line': 3, 'roughly': 1, 'boy': 2, 'beat': 4, 'annoy': 1, 'tease': 1, 'wow': 6, 'sang': 2, 'verse': 8, 'song': 7, 'tossing': 3, 'howled': 1, 'thoroughly': 2, 'enjoy': 1, 'plea': 1, 'flinging': 1, 'threw': 2, 'fryingpan': 1, 'missed': 2, 'caught': 3, 'queershaped': 1, 'starfish': 1, 'snorting': 1, 'steamengine': 1, 'doubling': 1, 'straightening': 1, 'proper': 3, 'twist': 2, 'tight': 1, 'prevent': 1, 'undoing': 1, 'murder': 1, 'grunted': 4, 'grunt': 1, 'expressing': 1, 'turnup': 1, 'snout': 1, 'also': 2, 'extremely': 2, 'sobbing': 3, 'seriously': 1, 'sobbed': 1, 'neither': 2, 'le': 4, 'carry': 1, 'relieved': 1, 'trot': 1, 'dreadfully': 6, 'ugly': 2, 'handsome': 1, 'startled': 2, 'seeing': 1, 'bough': 1, 'yard': 1, 'goodnatured': 1, 'teeth': 1, 'treated': 1, 'respect': 1, 'pus': 1, 'wider': 1, 'depends': 1, 'explanation': 3, 'denied': 2, 'waving': 5, 'hatter': 57, 'march': 33, 'hare': 31, 'visit': 1, 'grant': 1, 'wag': 2, 'therefore': 1, 'growling': 1, 'invited': 2, 'happening': 1, 'bythebye': 1, 'became': 2, 'appear': 2, 'raving': 2, 'madat': 1, 'fig': 1, 'appearing': 1, 'vanishing': 1, 'giddy': 2, 'ending': 1, 'farther': 1, 'shaped': 2, 'thatched': 1, 'raised': 2, 'towards': 1, 'instead': 3, 'front': 2, 'tea': 12, 'dormouse': 40, 'fast': 4, 'asleep': 8, 'using': 2, 'cushion': 2, 'resting': 2, 'armchair': 1, 'wine': 2, 'civil': 3, 'laid': 2, 'cutting': 1, 'personal': 2, 'severity': 1, 'rude': 2, 'wide': 2, 'raven': 2, 'writingdesk': 1, 'fun': 3, 'theyve': 1, 'riddlesi': 1, 'leastat': 1, 'saythats': 1, 'breathe': 3, 'writingdesks': 1, 'break': 2, 'month': 2, 'uneasily': 2, 'fourth': 1, 'butter': 3, 'meekly': 2, 'crumb': 4, 'grumbled': 1, 'breadknife': 1, 'gloomily': 1, 'cup': 2, 'oclock': 3, 'year': 3, 'readily': 1, 'poured': 1, 'riddle': 2, 'slightest': 1, 'wearily': 1, 'waste': 1, 'cautiously': 3, 'music': 3, 'account': 2, 'term': 1, 'hed': 1, 'clock': 2, 'twinkling': 4, 'halfpast': 2, 'theni': 1, 'mournfully': 1, 'quarrelled': 1, 'marchjust': 1, 'spoon': 2, 'concert': 2, 'given': 1, 'heart': 10, 'sing': 6, 'twinkle': 8, 'fly': 3, 'teatray': 1, 'pinch': 2, 'bawled': 1, 'murdering': 1, 'exclaimed': 6, 'mournful': 1, 'teathings': 1, 'sigh': 4, 'weve': 2, 'wash': 2, 'while': 1, 'interrupted': 9, 'yawning': 2, 'vote': 1, 'lady': 3, 'alarmed': 1, 'proposal': 1, 'wake': 2, 'pinched': 2, 'elsie': 1, 'lacie': 1, 'tillie': 1, 'lived': 3, 'bottom': 4, 'interest': 1, 'eating': 1, 'drinking': 1, 'treacle': 5, 'living': 2, 'opinion': 1, 'who': 1, 'triumphantly': 2, 'helped': 1, 'breadandbutter': 6, 'treaclewell': 1, 'sh': 2, 'sulkily': 2, 'interrupt': 1, 'consented': 1, 'sistersthey': 1, 'learning': 2, 'promise': 1, 'clean': 1, 'unwillingly': 1, 'upset': 3, 'milkjug': 1, 'offend': 1, 'waterwell': 1, 'treaclewelleh': 1, 'choosing': 1, 'interrupting': 2, 'rubbing': 2, 'thingseverything': 1, 'closed': 2, 'doze': 1, 'woke': 1, 'mousetrap': 1, 'moon': 1, 'memory': 1, 'muchnessyou': 1, 'muchnessdid': 1, 'drawing': 1, 'muchness': 1, 'rudeness': 1, 'bear': 1, 'disgust': 1, 'teapot': 1, 'stupidest': 1, 'leading': 1, 'everythings': 2, 'unlocking': 1, 'thenshe': 1, 'flowerbed': 1, 'rosetree': 4, 'entrance': 1, 'rose': 4, 'gardener': 8, 'painting': 2, 'red': 2, 'paint': 1, 'jogged': 1, 'blame': 1, 'deserved': 1, 'beheaded': 3, 'spoken': 1, 'himit': 1, 'tuliproots': 1, 'onion': 1, 'flung': 1, 'brush': 1, 'unjust': 1, 'chanced': 1, 'watching': 3, 'checked': 3, 'afore': 1, 'flat': 2, 'eager': 3, 'soldier': 11, 'carrying': 2, 'club': 1, 'oblong': 1, 'courtier': 2, 'ornamented': 2, 'diamond': 1, 'royal': 2, 'merrily': 1, 'guest': 3, 'mostly': 2, 'king': 64, 'recognised': 1, 'noticing': 1, 'knave': 9, 'crimson': 2, 'velvet': 1, 'procession': 6, 'doubtful': 2, 'lie': 2, 'opposite': 1, 'smiled': 2, 'idiot': 1, 'majesty': 12, 'pack': 5, 'card': 3, 'neednt': 3, 'pattern': 1, 'glaring': 1, 'consider': 4, 'bowing': 1, 'humble': 1, 'knee': 5, 'meanwhile': 1, 'examining': 1, 'remaining': 1, 'execute': 1, 'unfortunate': 3, 'protection': 1, 'flowerpot': 1, 'marched': 1, 'evidently': 1, 'roared': 1, 'itsits': 1, 'fine': 2, 'peeping': 1, 'hush': 3, 'whispered': 5, 'execution': 4, 'boxed': 1, 'scream': 2, 'laughter': 1, 'thunder': 1, 'ridge': 2, 'furrow': 2, 'ball': 1, 'hedgehog': 10, 'mallet': 1, 'flamingo': 7, 'double': 1, 'arch': 5, 'chief': 1, 'managing': 1, 'body': 2, 'tucked': 3, 'comfortably': 1, 'straightened': 1, 'expression': 1, 'bursting': 1, 'laughing': 2, 'provoking': 1, 'unrolled': 2, 'act': 1, 'crawling': 1, 'send': 1, 'doubledup': 1, 'part': 3, 'player': 4, 'played': 1, 'quarrelling': 2, 'fighting': 1, 'furious': 1, 'stamping': 2, 'shouting': 2, 'uneasy': 1, 'dispute': 2, 'beheading': 1, 'alive': 3, 'appearance': 1, 'nodded': 1, 'someone': 1, 'fairly': 1, 'complaining': 1, 'quarrel': 1, 'oneself': 1, 'speakand': 1, 'attends': 1, 'groundand': 1, 'croqueted': 1, 'win': 1, 'finishing': 1, 'minea': 1, 'kiss': 1, 'impertinent': 1, 'removed': 2, 'passing': 1, 'settling': 1, 'executioner': 6, 'screaming': 1, 'search': 1, 'engaged': 1, 'fight': 2, 'croqueting': 1, 'helpless': 1, 'collected': 2, 'appealed': 1, 'settle': 1, 'unless': 2, 'werent': 1, 'anxious': 3, 'prison': 1, 'arrow': 1, 'fading': 1, 'entirely': 2, 'disappeared': 2, 'wildly': 2, 'affectionately': 1, 'pleasant': 1, 'hopeful': 1, 'withoutmaybe': 1, 'hottempered': 1, 'vinegar': 1, 'sourand': 1, 'camomile': 1, 'bitterandand': 1, 'barleysugar': 1, 'sweettempered': 1, 'stingy': 1, 'forget': 2, 'moral': 9, 'hasnt': 2, 'tut': 2, 'squeezed': 1, 'closer': 1, 'keeping': 2, 'uncomfortably': 1, 'bore': 1, 'ti': 5, 'minding': 1, 'istake': 1, 'waist': 1, 'experiment': 2, 'bite': 2, 'mustard': 2, 'isbirds': 1, 'flock': 1, 'mineral': 1, 'agree': 2, 'mustardmine': 1, 'isthe': 1, 'attended': 1, 'vegetable': 1, 'isbe': 1, 'beor': 1, 'simplynever': 1, 'imagine': 2, 'cheap': 1, 'birthday': 1, 'dig': 1, 'worried': 1, 'died': 1, 'favourite': 1, 'linked': 1, 'tremble': 1, 'thunderstorm': 1, 'fair': 1, 'warning': 1, 'choice': 2, 'absence': 1, 'shade': 1, 'delay': 1, 'cost': 1, 'sentenced': 1, 'custody': 2, 'company': 1, 'pardoned': 1, 'gryphon': 55, 'sun': 2, 'lazy': 1, 'leaving': 1, 'rubbed': 1, 'watched': 2, 'chuckled': 1, 'executes': 1, 'ledge': 1, 'rock': 1, 'pitied': 1, 'sorrow': 3, 'hollow': 1, 'occasional': 1, 'exclamation': 1, 'hjckrrh': 1, 'heavy': 2, 'calmly': 1, 'school': 5, 'turtlewe': 1, 'tortoise': 3, 'sink': 1, 'maynt': 1, 'educationsin': 1, 'dayschool': 1, 'proud': 2, 'extra': 1, 'learned': 1, 'relief': 2, 'washingextra': 1, 'afford': 1, 'regular': 2, 'inquired': 1, 'reeling': 1, 'writhing': 1, 'arithmeticambition': 1, 'distraction': 1, 'uglification': 2, 'derision': 1, 'lifted': 1, 'uglifying': 1, 'beautify': 1, 'meanstomakeanythingprettier': 1, 'uglify': 1, 'simpleton': 1, 'encouraged': 1, 'mystery': 2, 'counting': 1, 'flapper': 2, 'ancient': 1, 'modern': 1, 'seaography': 1, 'drawlingthe': 1, 'drawlingmaster': 1, 'congereel': 1, 'drawling': 1, 'fainting': 1, 'coil': 1, 'stiff': 1, 'classic': 1, 'grief': 1, 'hid': 1, 'lessen': 1, 'eleventh': 1, 'holiday': 1, 'twelfth': 1, 'punching': 1, 'recovered': 2, 'cheek': 1, 'aliceand': 1, 'introduced': 1, 'delightful': 2, 'dance': 13, 'form': 1, 'seashore': 1, 'seal': 1, 'salmon': 1, 'cleared': 1, 'jellyfish': 1, 'advance': 3, 'partner': 2, 'retire': 1, 'bound': 1, 'somersault': 1, 'capering': 1, 'yelled': 1, 'land': 1, 'dropping': 1, 'pretty': 1, 'dancing': 2, 'treading': 2, 'toe': 3, 'forepaw': 1, 'mark': 3, 'whiting': 8, 'snail': 3, 'porpoise': 4, 'shinglewill': 1, 'join': 9, 'askance': 1, 'thanked': 1, 'kindly': 2, 'scaly': 1, 'england': 1, 'france': 1, 'beloved': 1, 'theyyouve': 1, 'dinn': 2, 'mouthsand': 1, 'eyestell': 1, 'thrown': 1, 'shiny': 1, 'blacking': 1, 'sol': 1, 'shrimp': 1, 'obliged': 3, 'anywhere': 1, 'journey': 1, 'purpose': 1, 'adventuresbeginning': 1, 'impatient': 1, 'gained': 1, 'listener': 1, 'sluggard': 1, 'baked': 1, 'sugar': 1, 'eyelid': 1, 'trim': 1, 'belt': 1, 'button': 1, 'follows': 3, 'gay': 1, 'lark': 1, 'contemptuous': 1, 'shark': 2, 'tide': 1, 'around': 3, 'tremulous': 1, 'uncommon': 1, 'explained': 1, 'persisted': 2, 'disobey': 1, 'owl': 3, 'panther': 3, 'sharing': 1, 'pie': 2, 'piecrust': 1, 'gravy': 1, 'meat': 1, 'share': 1, 'treat': 1, 'boon': 1, 'permitted': 1, 'received': 1, 'fork': 1, 'banquet': 1, 'hm': 1, 'accounting': 1, 'rich': 1, 'tureen': 1, 'dainty': 1, 'evening': 2, 'beauootiful': 4, 'soooop': 7, 'eeevening': 3, 'p': 1, 'ennyworth': 1, 'pennyworth': 1, 'panted': 1, 'faintly': 1, 'breeze': 1, 'seated': 1, 'throne': 1, 'arrived': 1, 'themall': 1, 'standing': 1, 'chain': 1, 'guard': 1, 'trumpet': 3, 'scroll': 2, 'parchment': 2, 'court': 18, 'themi': 1, 'refreshment': 1, 'pas': 1, 'justice': 1, 'wig': 2, 'wore': 1, 'frontispiece': 1, 'comfortable': 1, 'becoming': 1, 'jurybox': 4, 'juror': 5, 'rightly': 1, 'juryman': 5, 'writing': 4, 'slate': 9, 'indignant': 1, 'spectacle': 3, 'spell': 1, 'neighbour': 1, 'muddle': 1, 'slatesll': 1, 'pencil': 2, 'squeaked': 1, 'quickly': 2, 'herald': 1, 'accusation': 1, 'blew': 2, 'blast': 2, 'summer': 2, 'verdict': 3, 'witness': 10, 'teacup': 5, 'sent': 2, 'arminarm': 1, 'fourteenth': 1, 'fifteenth': 1, 'sixteenth': 1, 'wrote': 3, 'date': 1, 'reduced': 1, 'penny': 1, 'hat': 1, 'stolen': 1, 'memorandum': 1, 'fidgeted': 1, 'spot': 1, 'encourage': 1, 'shifting': 1, 'remain': 1, 'squeeze': 1, 'boldly': 1, 'reasonable': 1, 'pace': 1, 'ridiculous': 1, 'fashion': 2, 'officer': 5, 'list': 3, 'singer': 2, 'teanot': 1, 'soand': 1, 'thinand': 1, 'dunce': 1, 'twinkled': 1, 'thatonly': 1, 'deny': 2, 'denies': 1, 'miserable': 2, 'speaker': 1, 'suppressed': 4, 'canvas': 1, 'bag': 1, 'tied': 1, 'string': 1, 'guineapig': 2, 'newspaper': 1, 'applause': 1, 'understood': 1, 'lower': 1, 'pepperbox': 1, 'crossexamine': 2, 'folding': 1, 'collar': 1, 'shrieked': 1, 'behead': 1, 'suppress': 1, 'undertone': 2, 'ache': 1, 'fumbled': 1, 'flurry': 1, 'tipped': 1, 'skirt': 1, 'upsetting': 1, 'sprawling': 1, 'reminding': 1, 'globe': 1, 'goldfish': 2, 'accidentally': 1, 'dismay': 1, 'accident': 2, 'vague': 1, 'die': 1, 'placesall': 1, 'emphasis': 1, 'haste': 1, 'downwards': 1, 'unable': 1, 'signifies': 1, 'shock': 1, 'diligently': 1, 'overcome': 1, 'gazing': 1, 'unimportant': 3, 'respectful': 1, 'importantunimportantunimportantimportant': 1, 'notebook': 2, 'cackled': 1, 'fortytwo': 1, 'invented': 1, 'oldest': 1, 'prisoner': 2, 'toto': 1, 'directed': 2, 'handwriting': 1, 'queerest': 1, 'imitated': 1, 'el': 1, 'prove': 1, 'signed': 2, 'sign': 1, 'mischief': 1, 'honest': 1, 'clapping': 1, 'prof': 2, 'guilt': 1, 'character': 1, 'push': 1, 'returned': 2, 'involved': 1, 'affair': 1, 'trust': 1, 'fit': 4, 'obstacle': 1, 'secret': 1, 'sixpence': 1, 'atom': 2, 'attempted': 1, 'spreading': 1, 'cardboard': 1, 'coursei': 1, 'clearer': 1, 'againbefore': 1, 'furiously': 1, 'inkstand': 1, 'ink': 1, 'trickling': 1, 'pun': 1, 'twentieth': 1, 'firstverdict': 1, 'purple': 1, 'flying': 1, 'brushing': 1, 'fluttered': 1, 'kissed': 1, 'wonderful': 2, 'setting': 1, 'dreaming': 1, 'dreamed': 1, 'clasped': 1, 'hersshe': 1, 'toss': 1, 'eyesand': 1, 'listened': 1, 'rustled': 1, 'bythe': 1, 'splashed': 1, 'neighbouring': 1, 'poolshe': 1, 'rattle': 1, 'shared': 1, 'neverending': 1, 'meal': 1, 'executiononce': 1, 'pigbaby': 1, 'crashed': 1, 'itonce': 1, 'slatepencil': 1, 'choking': 1, 'believed': 1, 'realitythe': 1, 'rustling': 1, 'rippling': 1, 'reedsthe': 1, 'tinkling': 1, 'sheepbells': 1, 'shepherd': 1, 'boyand': 1, 'clamour': 1, 'farmyardwhile': 1, 'lowing': 1, 'cattle': 1, 'lastly': 1, 'pictured': 1, 'aftertime': 1, 'woman': 1, 'riper': 1, 'loving': 1, 'childhood': 1, 'gather': 1, 'joy': 1, 'remembering': 1, 'childlife': 1, 'happy': 1}\n"
     ]
    }
   ],
   "source": [
    "dict_data = bag_of_words(word_tokenize(preprocessed_text))\n",
    "print(dict_data)"
   ]
  },
  {
   "cell_type": "markdown",
   "metadata": {},
   "source": []
  }
 ],
 "metadata": {
  "kernelspec": {
   "display_name": "Python 3",
   "language": "python",
   "name": "python3"
  },
  "language_info": {
   "codemirror_mode": {
    "name": "ipython",
    "version": 3
   },
   "file_extension": ".py",
   "mimetype": "text/x-python",
   "name": "python",
   "nbconvert_exporter": "python",
   "pygments_lexer": "ipython3",
   "version": "3.7.4"
  }
 },
 "nbformat": 4,
 "nbformat_minor": 2
}
