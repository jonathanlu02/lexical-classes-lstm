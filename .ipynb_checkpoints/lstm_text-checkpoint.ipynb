{
 "cells": [
  {
   "cell_type": "code",
   "execution_count": 1,
   "metadata": {},
   "outputs": [],
   "source": [
    "import os\n",
    "import sys\n",
    "import random\n",
    "import re\n",
    "import nltk\n",
    "from nltk.corpus import stopwords\n",
    "from nltk.stem.porter import *\n",
    "from nltk.stem import WordNetLemmatizer\n",
    "from nltk.tokenize import word_tokenize\n",
    "\n",
    "import keras\n",
    "from pickle import dump\n",
    "from keras.preprocessing.text import Tokenizer\n",
    "from keras.utils import to_categorical\n",
    "from keras.models import Sequential\n",
    "from keras.layers import Dense\n",
    "from keras.layers import Dropout\n",
    "from keras.layers import LSTM\n",
    "from keras.layers import Bidirectional\n",
    "from keras.layers import Embedding\n",
    "from keras.utils.vis_utils import plot_model\n",
    "import numpy as np\n",
    "\n",
    "import pandas as pd\n",
    "import seaborn as sns\n",
    "import matplotlib.pyplot as plt"
   ]
  },
  {
   "cell_type": "code",
   "execution_count": 2,
   "metadata": {},
   "outputs": [
    {
     "data": {
      "text/plain": [
       "(True, True, True)"
      ]
     },
     "execution_count": 2,
     "metadata": {},
     "output_type": "execute_result"
    },
    {
     "name": "stderr",
     "output_type": "stream",
     "text": [
      "[nltk_data] Downloading package stopwords to\n",
      "[nltk_data]     /Users/peilingjiang/nltk_data...\n",
      "[nltk_data]   Package stopwords is already up-to-date!\n",
      "[nltk_data] Downloading package punkt to\n",
      "[nltk_data]     /Users/peilingjiang/nltk_data...\n",
      "[nltk_data]   Package punkt is already up-to-date!\n",
      "[nltk_data] Downloading package wordnet to\n",
      "[nltk_data]     /Users/peilingjiang/nltk_data...\n",
      "[nltk_data]   Package wordnet is already up-to-date!\n"
     ]
    }
   ],
   "source": [
    "%%capture --no-display\n",
    "\n",
    "# run once\n",
    "nltk.download('stopwords'), nltk.download('punkt'), nltk.download('wordnet')"
   ]
  },
  {
   "cell_type": "markdown",
   "metadata": {},
   "source": [
    "# 1. Data Preparation"
   ]
  },
  {
   "cell_type": "code",
   "execution_count": 3,
   "metadata": {},
   "outputs": [],
   "source": [
    "def read_data(file):\n",
    "    '''\n",
    "    Read each text file into a string\n",
    "    '''\n",
    "    f = open(file, 'r', encoding='utf-8')\n",
    "    text = f.read()\n",
    "    f.close()\n",
    "    return text\n",
    "\n",
    "\n",
    "def folder_list(path):\n",
    "    '''\n",
    "    Reads each text file in a folder and concatenates each file into a bigger string\n",
    "    Parameter 'path' is the path of your local folder\n",
    "    '''\n",
    "    filelist = os.listdir(path)\n",
    "    text = ''\n",
    "    for infile in filelist:\n",
    "        file = os.path.join(path, infile)\n",
    "        text_data = read_data(file)\n",
    "        text += '\\n ' + text_data\n",
    "    return text\n",
    "\n",
    "\n",
    "def load_and_shuffle_data():\n",
    "    path = \"data/\"\n",
    "\n",
    "    text = folder_list(path)\n",
    "    # print(text)\n",
    "    # random.shuffle(text)\n",
    "\n",
    "    return text"
   ]
  },
  {
   "cell_type": "code",
   "execution_count": 4,
   "metadata": {},
   "outputs": [],
   "source": [
    "data = load_and_shuffle_data()\n",
    "# print(data)"
   ]
  },
  {
   "cell_type": "markdown",
   "metadata": {},
   "source": [
    "# 2. Text Preprocessing"
   ]
  },
  {
   "cell_type": "markdown",
   "metadata": {},
   "source": [
    "### a. Expand Contractions\n",
    "\n",
    "Expand the contractions in the sentences, e.g., change *I'm* to *I am*."
   ]
  },
  {
   "cell_type": "code",
   "execution_count": 7,
   "metadata": {},
   "outputs": [],
   "source": [
    "sys.path.append('./helpers/')\n",
    "from contraction_map import *"
   ]
  },
  {
   "cell_type": "code",
   "execution_count": 8,
   "metadata": {},
   "outputs": [],
   "source": [
    "def expand_contractions(text, contraction_mapping=CONTRACTION_MAP):\n",
    "\n",
    "    contractions_pattern = re.compile('({})'.format('|'.join(\n",
    "        contraction_mapping.keys())),\n",
    "                                      flags=re.IGNORECASE | re.DOTALL)\n",
    "\n",
    "    def expand_match(contraction):\n",
    "        match = contraction.group(0)\n",
    "        first_char = match[0]\n",
    "        #print(match)\n",
    "        expanded_contraction = contraction_mapping.get(match)\\\n",
    "                                if contraction_mapping.get(match)\\\n",
    "                                else contraction_mapping.get(match.lower())\n",
    "        #print(expanded_contraction)\n",
    "        expanded_contraction = first_char + expanded_contraction[1:]\n",
    "        return expanded_contraction\n",
    "\n",
    "    expanded_text = contractions_pattern.sub(expand_match, text)\n",
    "    expanded_text = re.sub(\"'\", \"\", expanded_text)\n",
    "    return expanded_text"
   ]
  },
  {
   "cell_type": "code",
   "execution_count": 9,
   "metadata": {},
   "outputs": [
    {
     "name": "stdout",
     "output_type": "stream",
     "text": [
      "test: it is I will I am have not\n"
     ]
    }
   ],
   "source": [
    "# test\n",
    "print(expand_contractions('''test: it's I'll I'm haven't''', CONTRACTION_MAP))"
   ]
  },
  {
   "cell_type": "markdown",
   "metadata": {},
   "source": [
    "### b. Remove non-alphabetical characters\n",
    "\n",
    "Remove special characters like periods, commas, as well as digits. Only keep the alphabet characters and spaces."
   ]
  },
  {
   "cell_type": "code",
   "execution_count": 10,
   "metadata": {},
   "outputs": [],
   "source": [
    "def remove_non_alphabetical_characters(text):\n",
    "    return re.sub(r'[^a-zA-Z\\s]', '', text)"
   ]
  },
  {
   "cell_type": "code",
   "execution_count": 11,
   "metadata": {},
   "outputs": [
    {
     "name": "stdout",
     "output_type": "stream",
     "text": [
      "t e s t\n"
     ]
    }
   ],
   "source": [
    "# test\n",
    "print(\n",
    "    remove_non_alphabetical_characters('t !@#$%^&*()_+-={}[]:\"e;'\n",
    "                                       '\">? s ./\\|<>,t1234567890`'))"
   ]
  },
  {
   "cell_type": "markdown",
   "metadata": {},
   "source": [
    "### c. Removing stopwords\n",
    "\n",
    "Remove all stop words, e.g., *a*, *the*, *and*, etc."
   ]
  },
  {
   "cell_type": "code",
   "execution_count": 12,
   "metadata": {},
   "outputs": [],
   "source": [
    "def remove_stopwords(text):\n",
    "    stopword_list = set(stopwords.words('english'))\n",
    "\n",
    "    tokens = word_tokenize(text)\n",
    "    tokens = [token.strip() for token in tokens]\n",
    "\n",
    "    filtered_tokens = [token for token in tokens if token not in stopword_list]\n",
    "\n",
    "    return ' '.join(filtered_tokens)"
   ]
  },
  {
   "cell_type": "code",
   "execution_count": 13,
   "metadata": {},
   "outputs": [
    {
     "name": "stdout",
     "output_type": "stream",
     "text": [
      "test test test test test\n"
     ]
    }
   ],
   "source": [
    "# test\n",
    "print(remove_stopwords('this test is a test to test the test from a test'))"
   ]
  },
  {
   "cell_type": "markdown",
   "metadata": {},
   "source": [
    "### d. Stemming \n",
    "\n",
    "Stem the words, e.g., change *making* to *make*. **(May remove due to aggressive pruning issue + lemma being more effective.)**"
   ]
  },
  {
   "cell_type": "code",
   "execution_count": 19,
   "metadata": {},
   "outputs": [],
   "source": [
    "def stemmer_text_1(text):\n",
    "    ps = nltk.porter.PorterStemmer()\n",
    "    text = ' '.join([ps.stem(word) for word in text.split()])\n",
    "    return text"
   ]
  },
  {
   "cell_type": "code",
   "execution_count": 23,
   "metadata": {},
   "outputs": [],
   "source": [
    "def stemmer_text_2(text):\n",
    "    ps = nltk.stem.SnowballStemmer('english')\n",
    "    text = ' '.join([ps.stem(word) for word in text.split()])\n",
    "    return text"
   ]
  },
  {
   "cell_type": "code",
   "execution_count": 25,
   "metadata": {},
   "outputs": [
    {
     "name": "stdout",
     "output_type": "stream",
     "text": [
      "make make make tri tri poni us leav happi ate gone thi\n",
      "make make make tri tri poni us leav happi ate gone this\n"
     ]
    }
   ],
   "source": [
    "# Stemmer\n",
    "# issue with stemming - https://medium.com/@tusharsri/nlp-a-quick-guide-to-stemming-60f1ca5db49e\n",
    "print(stemmer_text_1('making make makes try tries ponies us leaves happiness ate gone this'))\n",
    "print(stemmer_text_2('making make makes try tries ponies us leaves happiness ate gone this'))"
   ]
  },
  {
   "cell_type": "markdown",
   "metadata": {},
   "source": [
    "### e. Lemmatization\n",
    "\n",
    "Lemmatize words with knowing context, e.g., change *making* to *make*."
   ]
  },
  {
   "cell_type": "code",
   "execution_count": 28,
   "metadata": {},
   "outputs": [],
   "source": [
    "def lemmatize_text(text):\n",
    "    wn_lemmatizer = WordNetLemmatizer()\n",
    "    text = ' '.join([wn_lemmatizer.lemmatize(word) for word in text.split()])\n",
    "    return text"
   ]
  },
  {
   "cell_type": "code",
   "execution_count": 29,
   "metadata": {},
   "outputs": [
    {
     "name": "stdout",
     "output_type": "stream",
     "text": [
      "making make make\n",
      "try try pony u\n"
     ]
    }
   ],
   "source": [
    "#test\n",
    "print(lemmatize_text('making make makes'))\n",
    "print(lemmatize_text('try tries ponies us'))"
   ]
  },
  {
   "cell_type": "markdown",
   "metadata": {},
   "source": [
    "### PREPROCESS"
   ]
  },
  {
   "cell_type": "code",
   "execution_count": 30,
   "metadata": {},
   "outputs": [],
   "source": [
    "def preprocess(text):\n",
    "    text = text.lower()\n",
    "    text = expand_contractions(text)\n",
    "    text = remove_non_alphabetical_characters(text)\n",
    "    # text = remove_stopwords(text)\n",
    "    # text = stemmer_text(text)\n",
    "    text = lemmatize_text(text)\n",
    "    return text"
   ]
  },
  {
   "cell_type": "code",
   "execution_count": 31,
   "metadata": {},
   "outputs": [],
   "source": [
    "preprocessed_text = preprocess(data)\n",
    "# print(preprocessed_text)"
   ]
  },
  {
   "cell_type": "code",
   "execution_count": 32,
   "metadata": {},
   "outputs": [
    {
     "name": "stdout",
     "output_type": "stream",
     "text": [
      "Number of words: 243442\n",
      "Number of unique words: 11892\n"
     ]
    }
   ],
   "source": [
    "tokens = preprocessed_text.split()\n",
    "print('Number of words: ' + str(len(tokens)))\n",
    "print('Number of unique words: ' + str(len(set(tokens))))"
   ]
  },
  {
   "cell_type": "markdown",
   "metadata": {},
   "source": [
    "# 3. Sequence of words + integer encoding "
   ]
  },
  {
   "cell_type": "code",
   "execution_count": 50,
   "metadata": {},
   "outputs": [
    {
     "name": "stdout",
     "output_type": "stream",
     "text": [
      "Total Sequences: 243391\n"
     ]
    }
   ],
   "source": [
    "# Load all tokens into sequences (so that model can learn to predict words after a given sequence)\n",
    "# See https://machinelearningmastery.com/how-to-develop-a-word-level-neural-language-model-in-keras/\n",
    "\n",
    "# organize into sequences of tokens\n",
    "length = 50 + 1\n",
    "sequences = list()\n",
    "for i in range(length, len(tokens)):\n",
    "    # select sequence of tokens\n",
    "    seq = tokens[i - length:i]\n",
    "    # convert into a line\n",
    "    line = ' '.join(seq)\n",
    "    # store\n",
    "    sequences.append(line)\n",
    "print('Total Sequences: %d' % len(sequences))"
   ]
  },
  {
   "cell_type": "code",
   "execution_count": 51,
   "metadata": {},
   "outputs": [],
   "source": [
    "# save tokens to file, one dialog per line\n",
    "def save_doc(lines, filename):\n",
    "    data = '\\n'.join(lines)\n",
    "    file = open(filename, 'w')\n",
    "    file.write(data)\n",
    "    file.close()\n",
    "\n",
    "\n",
    "out_filename = 'sequences50_new.txt'\n",
    "save_doc(sequences, out_filename)"
   ]
  },
  {
   "cell_type": "markdown",
   "metadata": {},
   "source": [
    "# 4. Train model"
   ]
  },
  {
   "cell_type": "code",
   "execution_count": 4,
   "metadata": {},
   "outputs": [],
   "source": [
    "import keras\n",
    "\n",
    "\n",
    "# used to save the keras model every 10 epochs\n",
    "class CustomSaver(keras.callbacks.Callback):\n",
    "    def on_epoch_end(self, epoch, logs={}):\n",
    "        if epoch % 10 == 0:  # or save after some epoch, each k-th epoch etc.\n",
    "            self.model.save(\"model3_{}.hd5\".format(epoch))"
   ]
  },
  {
   "cell_type": "code",
   "execution_count": 5,
   "metadata": {},
   "outputs": [],
   "source": [
    "# load doc into memory\n",
    "def load_doc(filename):\n",
    "    # open the file as read only\n",
    "    file = open(filename, 'r')\n",
    "    # read all text\n",
    "    text = file.read()\n",
    "    # close the file\n",
    "    file.close()\n",
    "    return text\n",
    "\n",
    "\n",
    "# load\n",
    "in_filename = 'sequences50_new.txt'\n",
    "doc = load_doc(in_filename)\n",
    "lines = doc.split('\\n')"
   ]
  },
  {
   "cell_type": "code",
   "execution_count": 6,
   "metadata": {},
   "outputs": [],
   "source": [
    "# integer encode sequences of words\n",
    "tokenizer = Tokenizer()\n",
    "tokenizer.fit_on_texts(lines)\n",
    "sequences = tokenizer.texts_to_sequences(lines)\n",
    "# vocabulary size\n",
    "vocab_size = len(tokenizer.word_index) + 1\n",
    "\n",
    "# separate into input and output\n",
    "sequences = np.array(sequences)\n",
    "X, y = sequences[:, :-1], sequences[:, -1]\n",
    "y = to_categorical(y, num_classes=vocab_size)\n",
    "seq_length = X.shape[1]"
   ]
  },
  {
   "cell_type": "code",
   "execution_count": 7,
   "metadata": {},
   "outputs": [
    {
     "name": "stdout",
     "output_type": "stream",
     "text": [
      "Model: \"sequential_1\"\n",
      "_________________________________________________________________\n",
      "Layer (type)                 Output Shape              Param #   \n",
      "=================================================================\n",
      "embedding_1 (Embedding)      (None, 50, 50)            594650    \n",
      "_________________________________________________________________\n",
      "bidirectional_1 (Bidirection (None, 50, 200)           120800    \n",
      "_________________________________________________________________\n",
      "dropout_1 (Dropout)          (None, 50, 200)           0         \n",
      "_________________________________________________________________\n",
      "bidirectional_2 (Bidirection (None, 200)               240800    \n",
      "_________________________________________________________________\n",
      "dropout_2 (Dropout)          (None, 200)               0         \n",
      "_________________________________________________________________\n",
      "dense_1 (Dense)              (None, 100)               20100     \n",
      "_________________________________________________________________\n",
      "dropout_3 (Dropout)          (None, 100)               0         \n",
      "_________________________________________________________________\n",
      "dense_2 (Dense)              (None, 11893)             1201193   \n",
      "=================================================================\n",
      "Total params: 2,177,543\n",
      "Trainable params: 2,177,543\n",
      "Non-trainable params: 0\n",
      "_________________________________________________________________\n",
      "None\n"
     ]
    },
    {
     "name": "stderr",
     "output_type": "stream",
     "text": [
      "C:\\Users\\Jonathan\\Anaconda3\\lib\\site-packages\\tensorflow_core\\python\\framework\\indexed_slices.py:433: UserWarning: Converting sparse IndexedSlices to a dense Tensor of unknown shape. This may consume a large amount of memory.\n",
      "  \"Converting sparse IndexedSlices to a dense Tensor of unknown shape. \"\n"
     ]
    },
    {
     "name": "stdout",
     "output_type": "stream",
     "text": [
      "Train on 194712 samples, validate on 48679 samples\n",
      "Epoch 1/100\n",
      "194712/194712 [==============================] - 707s 4ms/step - loss: 6.5176 - accuracy: 0.0583 - val_loss: 6.5301 - val_accuracy: 0.0757\n",
      "Epoch 2/100\n",
      "194712/194712 [==============================] - 702s 4ms/step - loss: 6.1433 - accuracy: 0.0707 - val_loss: 6.4444 - val_accuracy: 0.0869\n",
      "Epoch 3/100\n",
      "194712/194712 [==============================] - 856s 4ms/step - loss: 5.9054 - accuracy: 0.0913 - val_loss: 6.3899 - val_accuracy: 0.1015\n",
      "Epoch 4/100\n",
      "194712/194712 [==============================] - 722s 4ms/step - loss: 5.7325 - accuracy: 0.1038 - val_loss: 6.4149 - val_accuracy: 0.1054\n",
      "Epoch 5/100\n",
      "194712/194712 [==============================] - 701s 4ms/step - loss: 5.5989 - accuracy: 0.1113 - val_loss: 6.4473 - val_accuracy: 0.1092\n",
      "Epoch 6/100\n",
      "194712/194712 [==============================] - 704s 4ms/step - loss: 5.4926 - accuracy: 0.1169 - val_loss: 6.5115 - val_accuracy: 0.1092\n",
      "Epoch 7/100\n",
      "194712/194712 [==============================] - 705s 4ms/step - loss: 5.3914 - accuracy: 0.1214 - val_loss: 6.5645 - val_accuracy: 0.1111\n",
      "Epoch 8/100\n",
      "194712/194712 [==============================] - 703s 4ms/step - loss: 5.3001 - accuracy: 0.1251 - val_loss: 6.6089 - val_accuracy: 0.1123\n",
      "Epoch 9/100\n",
      "194712/194712 [==============================] - 711s 4ms/step - loss: 5.2206 - accuracy: 0.1284 - val_loss: 6.6698 - val_accuracy: 0.1146\n",
      "Epoch 10/100\n",
      "194712/194712 [==============================] - 719s 4ms/step - loss: 5.1554 - accuracy: 0.1302 - val_loss: 6.7159 - val_accuracy: 0.1148\n",
      "Epoch 11/100\n",
      "194712/194712 [==============================] - 736s 4ms/step - loss: 5.1077 - accuracy: 0.1318 - val_loss: 6.7950 - val_accuracy: 0.1155\n",
      "Epoch 12/100\n",
      "194712/194712 [==============================] - 710s 4ms/step - loss: 5.0428 - accuracy: 0.1344 - val_loss: 6.8288 - val_accuracy: 0.1145\n",
      "Epoch 13/100\n",
      "194712/194712 [==============================] - 762s 4ms/step - loss: 4.9871 - accuracy: 0.1368 - val_loss: 6.9297 - val_accuracy: 0.1143\n",
      "Epoch 14/100\n",
      "194712/194712 [==============================] - 740s 4ms/step - loss: 4.9361 - accuracy: 0.1382 - val_loss: 7.0088 - val_accuracy: 0.1155\n",
      "Epoch 15/100\n",
      "194712/194712 [==============================] - 825s 4ms/step - loss: 4.8951 - accuracy: 0.1405 - val_loss: 7.0229 - val_accuracy: 0.1143\n",
      "Epoch 16/100\n",
      "194712/194712 [==============================] - 848s 4ms/step - loss: 4.8572 - accuracy: 0.1423 - val_loss: 7.1900 - val_accuracy: 0.1160\n",
      "Epoch 17/100\n",
      "194712/194712 [==============================] - 834s 4ms/step - loss: 4.8125 - accuracy: 0.1440 - val_loss: 7.1877 - val_accuracy: 0.1170\n",
      "Epoch 18/100\n",
      "194712/194712 [==============================] - 836s 4ms/step - loss: 4.7767 - accuracy: 0.1455 - val_loss: 7.3144 - val_accuracy: 0.1168\n",
      "Epoch 19/100\n",
      "194712/194712 [==============================] - 786s 4ms/step - loss: 4.7373 - accuracy: 0.1474 - val_loss: 7.3160 - val_accuracy: 0.1154\n",
      "Epoch 20/100\n",
      "194712/194712 [==============================] - 751s 4ms/step - loss: 4.7014 - accuracy: 0.1486 - val_loss: 7.4708 - val_accuracy: 0.1159\n",
      "Epoch 21/100\n",
      "194712/194712 [==============================] - 823s 4ms/step - loss: 4.6675 - accuracy: 0.1509 - val_loss: 7.5084 - val_accuracy: 0.1184\n",
      "Epoch 22/100\n",
      "194712/194712 [==============================] - 860s 4ms/step - loss: 4.6365 - accuracy: 0.1522 - val_loss: 7.5375 - val_accuracy: 0.1169\n",
      "Epoch 23/100\n",
      "194712/194712 [==============================] - 849s 4ms/step - loss: 4.6026 - accuracy: 0.1535 - val_loss: 7.6745 - val_accuracy: 0.1155\n",
      "Epoch 24/100\n",
      "194712/194712 [==============================] - 808s 4ms/step - loss: 4.5710 - accuracy: 0.1550 - val_loss: 7.6956 - val_accuracy: 0.1187\n",
      "Epoch 25/100\n",
      "194712/194712 [==============================] - 805s 4ms/step - loss: 4.5390 - accuracy: 0.1576 - val_loss: 7.7856 - val_accuracy: 0.1147\n",
      "Epoch 26/100\n",
      "194712/194712 [==============================] - 796s 4ms/step - loss: 4.5133 - accuracy: 0.1589 - val_loss: 7.8515 - val_accuracy: 0.1178\n",
      "Epoch 27/100\n",
      "194712/194712 [==============================] - 702s 4ms/step - loss: 4.4840 - accuracy: 0.1595 - val_loss: 7.9801 - val_accuracy: 0.1165\n",
      "Epoch 28/100\n",
      "194712/194712 [==============================] - 725s 4ms/step - loss: 4.4572 - accuracy: 0.1620 - val_loss: 8.0336 - val_accuracy: 0.1167\n",
      "Epoch 29/100\n",
      "194712/194712 [==============================] - 715s 4ms/step - loss: 4.4337 - accuracy: 0.1637 - val_loss: 8.1675 - val_accuracy: 0.1164\n",
      "Epoch 30/100\n",
      "194712/194712 [==============================] - 716s 4ms/step - loss: 4.4052 - accuracy: 0.1650 - val_loss: 8.2243 - val_accuracy: 0.1183\n",
      "Epoch 31/100\n",
      "194712/194712 [==============================] - 758s 4ms/step - loss: 4.3839 - accuracy: 0.1663 - val_loss: 8.3335 - val_accuracy: 0.1164\n",
      "Epoch 32/100\n",
      "194712/194712 [==============================] - 695s 4ms/step - loss: 4.3613 - accuracy: 0.1685 - val_loss: 8.3786 - val_accuracy: 0.1151\n",
      "Epoch 33/100\n",
      "194712/194712 [==============================] - 737s 4ms/step - loss: 4.3370 - accuracy: 0.1702 - val_loss: 8.4271 - val_accuracy: 0.1137\n",
      "Epoch 34/100\n",
      "194712/194712 [==============================] - 771s 4ms/step - loss: 4.3170 - accuracy: 0.1707 - val_loss: 8.3973 - val_accuracy: 0.1157\n",
      "Epoch 35/100\n",
      "194712/194712 [==============================] - 732s 4ms/step - loss: 4.2920 - accuracy: 0.1715 - val_loss: 8.5639 - val_accuracy: 0.1150\n",
      "Epoch 36/100\n",
      "194712/194712 [==============================] - 757s 4ms/step - loss: 4.2716 - accuracy: 0.1737 - val_loss: 8.5275 - val_accuracy: 0.1152\n",
      "Epoch 37/100\n",
      "194712/194712 [==============================] - 838s 4ms/step - loss: 4.2527 - accuracy: 0.1745 - val_loss: 8.7348 - val_accuracy: 0.1151\n",
      "Epoch 38/100\n",
      "194712/194712 [==============================] - 906s 5ms/step - loss: 4.2344 - accuracy: 0.1771 - val_loss: 8.7882 - val_accuracy: 0.1126\n",
      "Epoch 39/100\n",
      "194712/194712 [==============================] - 892s 5ms/step - loss: 4.2159 - accuracy: 0.1778 - val_loss: 8.8833 - val_accuracy: 0.1138\n",
      "Epoch 40/100\n",
      "194712/194712 [==============================] - 871s 4ms/step - loss: 4.1941 - accuracy: 0.1795 - val_loss: 8.8957 - val_accuracy: 0.1114\n",
      "Epoch 41/100\n",
      "194712/194712 [==============================] - 917s 5ms/step - loss: 4.1783 - accuracy: 0.1794 - val_loss: 8.9572 - val_accuracy: 0.1107\n",
      "Epoch 42/100\n",
      "194712/194712 [==============================] - 858s 4ms/step - loss: 4.1637 - accuracy: 0.1815 - val_loss: 9.0363 - val_accuracy: 0.1125\n",
      "Epoch 43/100\n",
      "194712/194712 [==============================] - 893s 5ms/step - loss: 4.1425 - accuracy: 0.1837 - val_loss: 9.0953 - val_accuracy: 0.1114\n",
      "Epoch 44/100\n",
      "194712/194712 [==============================] - 713s 4ms/step - loss: 4.1245 - accuracy: 0.1850 - val_loss: 9.0428 - val_accuracy: 0.1113\n",
      "Epoch 45/100\n",
      "194712/194712 [==============================] - 706s 4ms/step - loss: 4.1124 - accuracy: 0.1854 - val_loss: 9.2212 - val_accuracy: 0.1120\n",
      "Epoch 46/100\n",
      "194712/194712 [==============================] - 694s 4ms/step - loss: 4.0974 - accuracy: 0.1873 - val_loss: 9.3476 - val_accuracy: 0.1108\n",
      "Epoch 47/100\n",
      "194712/194712 [==============================] - 722s 4ms/step - loss: 4.0804 - accuracy: 0.1880 - val_loss: 9.3186 - val_accuracy: 0.1108\n",
      "Epoch 48/100\n",
      "194712/194712 [==============================] - 702s 4ms/step - loss: 4.0660 - accuracy: 0.1896 - val_loss: 9.4795 - val_accuracy: 0.1117\n",
      "Epoch 49/100\n",
      "194712/194712 [==============================] - 697s 4ms/step - loss: 4.0462 - accuracy: 0.1910 - val_loss: 9.4487 - val_accuracy: 0.1090\n",
      "Epoch 50/100\n",
      "194712/194712 [==============================] - 719s 4ms/step - loss: 4.0390 - accuracy: 0.1917 - val_loss: 9.5623 - val_accuracy: 0.1097\n",
      "Epoch 51/100\n",
      "194712/194712 [==============================] - 717s 4ms/step - loss: 4.0177 - accuracy: 0.1941 - val_loss: 9.6155 - val_accuracy: 0.1085\n",
      "Epoch 52/100\n",
      "194712/194712 [==============================] - 701s 4ms/step - loss: 4.0119 - accuracy: 0.1938 - val_loss: 9.7116 - val_accuracy: 0.1076\n",
      "Epoch 53/100\n",
      "194712/194712 [==============================] - 708s 4ms/step - loss: 3.9995 - accuracy: 0.1961 - val_loss: 9.8429 - val_accuracy: 0.1093\n",
      "Epoch 54/100\n",
      "194712/194712 [==============================] - 703s 4ms/step - loss: 3.9812 - accuracy: 0.1985 - val_loss: 9.8690 - val_accuracy: 0.1080\n",
      "Epoch 55/100\n",
      "194712/194712 [==============================] - 703s 4ms/step - loss: 3.9690 - accuracy: 0.1985 - val_loss: 9.8973 - val_accuracy: 0.1082\n",
      "Epoch 56/100\n",
      "194712/194712 [==============================] - 718s 4ms/step - loss: 3.9566 - accuracy: 0.1998 - val_loss: 9.8786 - val_accuracy: 0.1044\n",
      "Epoch 57/100\n",
      "194712/194712 [==============================] - 780s 4ms/step - loss: 3.9467 - accuracy: 0.2003 - val_loss: 9.9917 - val_accuracy: 0.1074\n",
      "Epoch 58/100\n",
      "194712/194712 [==============================] - 707s 4ms/step - loss: 3.9323 - accuracy: 0.2021 - val_loss: 9.9919 - val_accuracy: 0.1056\n",
      "Epoch 59/100\n",
      "194712/194712 [==============================] - 727s 4ms/step - loss: 3.9229 - accuracy: 0.2033 - val_loss: 10.1070 - val_accuracy: 0.1050\n",
      "Epoch 60/100\n",
      "194712/194712 [==============================] - 751s 4ms/step - loss: 3.9081 - accuracy: 0.2049 - val_loss: 10.1023 - val_accuracy: 0.1056\n",
      "Epoch 61/100\n",
      "194712/194712 [==============================] - 723s 4ms/step - loss: 3.8976 - accuracy: 0.2043 - val_loss: 10.0876 - val_accuracy: 0.1027\n",
      "Epoch 62/100\n",
      "194712/194712 [==============================] - 701s 4ms/step - loss: 3.8903 - accuracy: 0.2060 - val_loss: 10.1469 - val_accuracy: 0.1044\n",
      "Epoch 63/100\n",
      "194712/194712 [==============================] - 702s 4ms/step - loss: 3.8722 - accuracy: 0.2078 - val_loss: 10.2525 - val_accuracy: 0.1050\n",
      "Epoch 64/100\n",
      "194712/194712 [==============================] - 704s 4ms/step - loss: 3.8586 - accuracy: 0.2093 - val_loss: 10.3063 - val_accuracy: 0.1042\n",
      "Epoch 65/100\n",
      "194712/194712 [==============================] - 715s 4ms/step - loss: 3.8499 - accuracy: 0.2096 - val_loss: 10.5693 - val_accuracy: 0.1033\n",
      "Epoch 66/100\n",
      "194712/194712 [==============================] - 698s 4ms/step - loss: 3.8414 - accuracy: 0.2109 - val_loss: 10.5721 - val_accuracy: 0.1041\n",
      "Epoch 67/100\n",
      "194712/194712 [==============================] - 702s 4ms/step - loss: 3.8312 - accuracy: 0.2116 - val_loss: 10.5491 - val_accuracy: 0.1015\n",
      "Epoch 68/100\n",
      "194712/194712 [==============================] - 726s 4ms/step - loss: 3.8204 - accuracy: 0.2129 - val_loss: 10.5024 - val_accuracy: 0.1022\n",
      "Epoch 69/100\n",
      "194712/194712 [==============================] - 714s 4ms/step - loss: 3.8138 - accuracy: 0.2142 - val_loss: 10.5054 - val_accuracy: 0.1016\n",
      "Epoch 70/100\n",
      "194712/194712 [==============================] - 710s 4ms/step - loss: 3.7978 - accuracy: 0.2152 - val_loss: 10.3730 - val_accuracy: 0.1012\n",
      "Epoch 71/100\n",
      "194712/194712 [==============================] - 782s 4ms/step - loss: 3.7942 - accuracy: 0.2168 - val_loss: 10.4611 - val_accuracy: 0.0999\n",
      "Epoch 72/100\n",
      "194712/194712 [==============================] - 713s 4ms/step - loss: 3.7781 - accuracy: 0.2170 - val_loss: 10.6601 - val_accuracy: 0.1003\n",
      "Epoch 73/100\n",
      "194712/194712 [==============================] - 705s 4ms/step - loss: 3.7754 - accuracy: 0.2184 - val_loss: 10.9143 - val_accuracy: 0.0997\n",
      "Epoch 74/100\n",
      "194712/194712 [==============================] - 704s 4ms/step - loss: 3.7595 - accuracy: 0.2196 - val_loss: 10.8640 - val_accuracy: 0.1000\n",
      "Epoch 75/100\n",
      "194712/194712 [==============================] - 706s 4ms/step - loss: 3.7520 - accuracy: 0.2194 - val_loss: 10.8383 - val_accuracy: 0.0987\n",
      "Epoch 76/100\n",
      "194712/194712 [==============================] - 703s 4ms/step - loss: 3.7431 - accuracy: 0.2209 - val_loss: 10.8409 - val_accuracy: 0.0991\n",
      "Epoch 77/100\n",
      "194712/194712 [==============================] - 706s 4ms/step - loss: 3.7327 - accuracy: 0.2221 - val_loss: 10.7980 - val_accuracy: 0.0985\n",
      "Epoch 78/100\n",
      "194712/194712 [==============================] - 702s 4ms/step - loss: 3.7266 - accuracy: 0.2232 - val_loss: 10.9041 - val_accuracy: 0.0976\n",
      "Epoch 79/100\n",
      "194712/194712 [==============================] - 705s 4ms/step - loss: 3.7162 - accuracy: 0.2233 - val_loss: 11.0116 - val_accuracy: 0.0963\n",
      "Epoch 80/100\n",
      "194712/194712 [==============================] - 733s 4ms/step - loss: 3.7101 - accuracy: 0.2254 - val_loss: 11.0747 - val_accuracy: 0.0978\n",
      "Epoch 81/100\n",
      "194712/194712 [==============================] - 701s 4ms/step - loss: 3.7043 - accuracy: 0.2253 - val_loss: 11.0232 - val_accuracy: 0.0955\n",
      "Epoch 82/100\n",
      "194712/194712 [==============================] - 713s 4ms/step - loss: 3.6942 - accuracy: 0.2265 - val_loss: 11.1040 - val_accuracy: 0.0949\n",
      "Epoch 83/100\n",
      "194712/194712 [==============================] - 717s 4ms/step - loss: 3.6817 - accuracy: 0.2271 - val_loss: 11.2835 - val_accuracy: 0.0954\n",
      "Epoch 84/100\n",
      "194712/194712 [==============================] - 702s 4ms/step - loss: 3.6849 - accuracy: 0.2275 - val_loss: 11.1514 - val_accuracy: 0.0963\n",
      "Epoch 85/100\n",
      "194712/194712 [==============================] - 699s 4ms/step - loss: 3.6661 - accuracy: 0.2293 - val_loss: 11.3721 - val_accuracy: 0.0956\n",
      "Epoch 86/100\n",
      "194712/194712 [==============================] - 699s 4ms/step - loss: 3.6617 - accuracy: 0.2303 - val_loss: 11.4335 - val_accuracy: 0.0945\n",
      "Epoch 87/100\n",
      "194712/194712 [==============================] - 733s 4ms/step - loss: 3.6569 - accuracy: 0.2309 - val_loss: 11.3601 - val_accuracy: 0.0937\n",
      "Epoch 88/100\n",
      "194712/194712 [==============================] - 713s 4ms/step - loss: 3.6478 - accuracy: 0.2328 - val_loss: 11.2570 - val_accuracy: 0.0943\n",
      "Epoch 89/100\n",
      "194712/194712 [==============================] - 776s 4ms/step - loss: 3.6421 - accuracy: 0.2330 - val_loss: 11.3733 - val_accuracy: 0.0940\n",
      "Epoch 90/100\n",
      "194712/194712 [==============================] - 701s 4ms/step - loss: 3.6362 - accuracy: 0.2342 - val_loss: 11.3376 - val_accuracy: 0.0934\n",
      "Epoch 91/100\n",
      "194712/194712 [==============================] - 714s 4ms/step - loss: 3.6305 - accuracy: 0.2348 - val_loss: 11.4927 - val_accuracy: 0.0937\n",
      "Epoch 92/100\n",
      "194712/194712 [==============================] - 712s 4ms/step - loss: 3.6211 - accuracy: 0.2347 - val_loss: 11.4942 - val_accuracy: 0.0931\n",
      "Epoch 93/100\n",
      "194712/194712 [==============================] - 704s 4ms/step - loss: 3.6162 - accuracy: 0.2357 - val_loss: 11.4359 - val_accuracy: 0.0925\n",
      "Epoch 94/100\n",
      "194712/194712 [==============================] - 762s 4ms/step - loss: 3.6074 - accuracy: 0.2371 - val_loss: 11.4644 - val_accuracy: 0.0914\n",
      "Epoch 95/100\n",
      "194712/194712 [==============================] - 702s 4ms/step - loss: 3.6004 - accuracy: 0.2379 - val_loss: 11.5854 - val_accuracy: 0.0917\n",
      "Epoch 96/100\n",
      "194712/194712 [==============================] - 710s 4ms/step - loss: 3.5930 - accuracy: 0.2383 - val_loss: 11.6021 - val_accuracy: 0.0925\n",
      "Epoch 97/100\n",
      "194712/194712 [==============================] - 716s 4ms/step - loss: 3.5866 - accuracy: 0.2393 - val_loss: 11.6898 - val_accuracy: 0.0933\n",
      "Epoch 98/100\n",
      "194712/194712 [==============================] - 703s 4ms/step - loss: 3.5804 - accuracy: 0.2401 - val_loss: 11.8274 - val_accuracy: 0.0921\n",
      "Epoch 99/100\n",
      "194712/194712 [==============================] - 712s 4ms/step - loss: 3.5773 - accuracy: 0.2411 - val_loss: 11.7616 - val_accuracy: 0.0894\n",
      "Epoch 100/100\n",
      "194712/194712 [==============================] - 782s 4ms/step - loss: 3.5691 - accuracy: 0.2418 - val_loss: 11.7915 - val_accuracy: 0.0912\n"
     ]
    }
   ],
   "source": [
    "# define model\n",
    "model = Sequential()\n",
    "model.add(Embedding(\n",
    "    vocab_size, 50,\n",
    "    input_length=seq_length))  #create word embedding, better than BoW\n",
    "model.add(Bidirectional(LSTM(100, return_sequences=True)))\n",
    "model.add(Dropout(0.2))  # dropout to reduce overfitting\n",
    "model.add(Bidirectional(LSTM(100)))\n",
    "model.add(Dropout(0.2))\n",
    "model.add(Dense(100, activation='relu'))\n",
    "model.add(Dropout(0.2))\n",
    "model.add(Dense(vocab_size, activation='softmax'))\n",
    "print(model.summary())\n",
    "# compile model\n",
    "model.compile(loss='categorical_crossentropy',\n",
    "              optimizer='adam',\n",
    "              metrics=['accuracy'])\n",
    "# fit model\n",
    "saver = CustomSaver()\n",
    "history = model.fit(X,\n",
    "                    y,\n",
    "                    callbacks=[saver],\n",
    "                    batch_size=128,\n",
    "                    epochs=100,\n",
    "                    validation_split=0.2,\n",
    "                    shuffle=True)\n",
    "\n",
    "# model.save('model50.h5')\n",
    "# save the tokenizer\n",
    "dump(tokenizer, open('tokenizer.pkl', 'wb'))"
   ]
  },
  {
   "cell_type": "code",
   "execution_count": 8,
   "metadata": {},
   "outputs": [],
   "source": [
    "model.save('model3_100.h5')"
   ]
  },
  {
   "cell_type": "code",
   "execution_count": 43,
   "metadata": {},
   "outputs": [
    {
     "data": {
      "image/png": "[encoded data removed]",
      "text/plain": [
       "<IPython.core.display.Image object>"
      ]
     },
     "execution_count": 43,
     "metadata": {},
     "output_type": "execute_result"
    }
   ],
   "source": [
    "plot_model(model,\n",
    "           to_file='model_new.png',\n",
    "           show_shapes=True,\n",
    "           show_layer_names=True)"
   ]
  },
  {
   "cell_type": "markdown",
   "metadata": {},
   "source": [
    "## 4b. Training analysis"
   ]
  },
  {
   "cell_type": "code",
   "execution_count": 9,
   "metadata": {},
   "outputs": [],
   "source": [
    "df = pd.DataFrame()\n",
    "df['epoch'] = range(100)\n",
    "df['train_loss'] = history.history['loss']\n",
    "df['train_acc'] = history.history['accuracy']\n",
    "df['val_loss'] = history.history['val_loss']\n",
    "df['val_acc'] = history.history['val_accuracy']"
   ]
  },
  {
   "cell_type": "code",
   "execution_count": 10,
   "metadata": {},
   "outputs": [
    {
     "data": {
      "text/plain": [
       "<matplotlib.legend.Legend at 0x1d473686cc8>"
      ]
     },
     "execution_count": 10,
     "metadata": {},
     "output_type": "execute_result"
    },
    {
     "data": {
      "image/png": "[encoded data removed]",
      "text/plain": [
       "<Figure size 432x288 with 1 Axes>"
      ]
     },
     "metadata": {},
     "output_type": "display_data"
    }
   ],
   "source": [
    "sns.set(style=\"darkgrid\")\n",
    "plt.plot(range(100), history.history['accuracy'], label='train_accuracy')\n",
    "plt.plot(range(100), history.history['val_accuracy'], label='val_accuracy')\n",
    "plt.xlabel('Epoch')\n",
    "plt.ylabel('Accuracy')\n",
    "plt.title('Accuracy over epochs')\n",
    "plt.legend()"
   ]
  },
  {
   "cell_type": "code",
   "execution_count": 11,
   "metadata": {},
   "outputs": [
    {
     "data": {
      "text/plain": [
       "<matplotlib.legend.Legend at 0x1d4087f5b88>"
      ]
     },
     "execution_count": 11,
     "metadata": {},
     "output_type": "execute_result"
    },
    {
     "data": {
      "image/png": "[encoded data removed]",
      "text/plain": [
       "<Figure size 432x288 with 1 Axes>"
      ]
     },
     "metadata": {},
     "output_type": "display_data"
    }
   ],
   "source": [
    "plt.plot(range(100), history.history['loss'], label='train_loss')\n",
    "plt.plot(range(100), history.history['val_loss'], label='val_loss')\n",
    "plt.xlabel('Epoch')\n",
    "plt.ylabel('Loss')\n",
    "plt.title('Loss over epochs')\n",
    "plt.legend()"
   ]
  },
  {
   "cell_type": "markdown",
   "metadata": {},
   "source": [
    "# 5. Text generation (after training)"
   ]
  },
  {
   "cell_type": "code",
   "execution_count": 12,
   "metadata": {},
   "outputs": [],
   "source": [
    "from random import randint\n",
    "from pickle import load\n",
    "from keras.models import load_model\n",
    "from keras.preprocessing.sequence import pad_sequences"
   ]
  },
  {
   "cell_type": "code",
   "execution_count": 13,
   "metadata": {},
   "outputs": [],
   "source": [
    "# load doc into memory\n",
    "def load_doc(filename):\n",
    "    file = open(filename, 'r')\n",
    "    text = file.read()\n",
    "    file.close()\n",
    "    return text"
   ]
  },
  {
   "cell_type": "code",
   "execution_count": 14,
   "metadata": {},
   "outputs": [],
   "source": [
    "# generate a sequence from a language model\n",
    "def generate_seq(model, tokenizer, seq_length, seed_text, n_words):\n",
    "\n",
    "    result = list()\n",
    "    in_text = seed_text\n",
    "\n",
    "    # generate a fixed number of words\n",
    "    for _ in range(n_words):\n",
    "        encoded = tokenizer.texts_to_sequences(\n",
    "            [in_text])[0]  # encode the text as integer\n",
    "        encoded = pad_sequences(\n",
    "            [encoded], maxlen=seq_length,\n",
    "            truncating='pre')  # truncate sequences to a fixed length\n",
    "        yhat = model.predict_classes(\n",
    "            encoded, verbose=0)  # predict probabilities for each word\n",
    "\n",
    "        # map predicted word index to word\n",
    "        out_word = ''\n",
    "        for word, index in tokenizer.word_index.items():\n",
    "            if index == yhat:\n",
    "                out_word = word\n",
    "                break\n",
    "\n",
    "        # append to input\n",
    "        in_text += ' ' + out_word\n",
    "        result.append(out_word)\n",
    "    return ' '.join(result)"
   ]
  },
  {
   "cell_type": "code",
   "execution_count": 15,
   "metadata": {},
   "outputs": [],
   "source": [
    "# load cleaned text sequences\n",
    "in_filename = 'sequences50_new.txt'\n",
    "doc = load_doc(in_filename)\n",
    "lines = doc.split('\\n')\n",
    "seq_length = len(lines[0].split()) - 1"
   ]
  },
  {
   "cell_type": "markdown",
   "metadata": {},
   "source": [
    "# a. Earlier model (trained for 1 epoch)"
   ]
  },
  {
   "cell_type": "code",
   "execution_count": 72,
   "metadata": {},
   "outputs": [
    {
     "name": "stderr",
     "output_type": "stream",
     "text": [
      "C:\\Users\\Jonathan\\Anaconda3\\lib\\site-packages\\tensorflow_core\\python\\framework\\indexed_slices.py:433: UserWarning: Converting sparse IndexedSlices to a dense Tensor of unknown shape. This may consume a large amount of memory.\n",
      "  \"Converting sparse IndexedSlices to a dense Tensor of unknown shape. \"\n"
     ]
    },
    {
     "name": "stdout",
     "output_type": "stream",
     "text": [
      "she heard it muttering to itself the duchess the duchess oh my dear paw oh my fur and whisker shell get me executed a sure a ferret are ferret where can i have dropped them i wonder alice guessed in a moment that it wa looking for the fan and the\n",
      "\n",
      "little little little little little little little little little little little little little little little little little little little little little little little little little little little little little little little little little little little little little little little little little little little little little little little little little little\n"
     ]
    }
   ],
   "source": [
    "# load the model\n",
    "model = load_model('model3_0.hd5')\n",
    "\n",
    "# load the tokenizer\n",
    "tokenizer = load(open('tokenizer.pkl', 'rb'))\n",
    "\n",
    "# select a random seed text\n",
    "seed_text = lines[randint(0, len(lines))]\n",
    "print(seed_text + '\\n')\n",
    "\n",
    "# generate new text\n",
    "generated = generate_seq(model, tokenizer, seq_length, seed_text, 50)\n",
    "print(generated)"
   ]
  },
  {
   "cell_type": "markdown",
   "metadata": {},
   "source": [
    "# b. Supposed best model (trained for 20 epochs)\n",
    "\n",
    "**- has lowest validation error**"
   ]
  },
  {
   "cell_type": "code",
   "execution_count": 73,
   "metadata": {},
   "outputs": [
    {
     "name": "stderr",
     "output_type": "stream",
     "text": [
      "C:\\Users\\Jonathan\\Anaconda3\\lib\\site-packages\\tensorflow_core\\python\\framework\\indexed_slices.py:433: UserWarning: Converting sparse IndexedSlices to a dense Tensor of unknown shape. This may consume a large amount of memory.\n",
      "  \"Converting sparse IndexedSlices to a dense Tensor of unknown shape. \"\n"
     ]
    },
    {
     "name": "stdout",
     "output_type": "stream",
     "text": [
      "she heard it muttering to itself the duchess the duchess oh my dear paw oh my fur and whisker shell get me executed a sure a ferret are ferret where can i have dropped them i wonder alice guessed in a moment that it wa looking for the fan and the\n",
      "\n",
      "captain wa a little deal of the other thing and the captain wa a little little girl and the lion wa a little little girl and the scarecrow wa a little man and the lion wa a little a the lion and the lion wa a great man and the\n"
     ]
    }
   ],
   "source": [
    "# load the model\n",
    "model = load_model('model3_20.hd5')\n",
    "\n",
    "# load the tokenizer\n",
    "tokenizer = load(open('tokenizer.pkl', 'rb'))\n",
    "\n",
    "# generate new text\n",
    "generated = generate_seq(model, tokenizer, seq_length, seed_text, 50)\n",
    "print(generated)"
   ]
  },
  {
   "cell_type": "markdown",
   "metadata": {},
   "source": [
    "# c. Final model (trained for 100 epochs)"
   ]
  },
  {
   "cell_type": "code",
   "execution_count": 74,
   "metadata": {},
   "outputs": [
    {
     "name": "stderr",
     "output_type": "stream",
     "text": [
      "C:\\Users\\Jonathan\\Anaconda3\\lib\\site-packages\\tensorflow_core\\python\\framework\\indexed_slices.py:433: UserWarning: Converting sparse IndexedSlices to a dense Tensor of unknown shape. This may consume a large amount of memory.\n",
      "  \"Converting sparse IndexedSlices to a dense Tensor of unknown shape. \"\n"
     ]
    },
    {
     "name": "stdout",
     "output_type": "stream",
     "text": [
      "she heard it muttering to itself the duchess the duchess oh my dear paw oh my fur and whisker shell get me executed a sure a ferret are ferret where can i have dropped them i wonder alice guessed in a moment that it wa looking for the fan and the\n",
      "\n",
      "other thing wa a little pattering of the deepest hound contempt a man a he wa a curious idea that wa a little a the benefit of his head and looked at the tree and the lion played and the little house of the tree and the little old woman\n"
     ]
    }
   ],
   "source": [
    "# load the model\n",
    "model = load_model('model3_100.h5')\n",
    "\n",
    "# load the tokenizer\n",
    "tokenizer = load(open('tokenizer.pkl', 'rb'))\n",
    "\n",
    "# generate new text\n",
    "generated = generate_seq(model, tokenizer, seq_length, seed_text, 50)\n",
    "print(generated)"
   ]
  },
  {
   "cell_type": "code",
   "execution_count": null,
   "metadata": {},
   "outputs": [],
   "source": []
  }
 ],
 "metadata": {
  "kernelspec": {
   "display_name": "cognition_env",
   "language": "python",
   "name": "cognition_env"
  },
  "language_info": {
   "codemirror_mode": {
    "name": "ipython",
    "version": 3
   },
   "file_extension": ".py",
   "mimetype": "text/x-python",
   "name": "python",
   "nbconvert_exporter": "python",
   "pygments_lexer": "ipython3",
   "version": "3.8.5"
  }
 },
 "nbformat": 4,
 "nbformat_minor": 2
}
